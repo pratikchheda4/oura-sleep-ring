{
 "cells": [
  {
   "cell_type": "markdown",
   "metadata": {},
   "source": [
    "# Imports"
   ]
  },
  {
   "cell_type": "markdown",
   "metadata": {},
   "source": [
    "## Package Imports "
   ]
  },
  {
   "cell_type": "code",
   "execution_count": 1,
   "metadata": {
    "ExecuteTime": {
     "end_time": "2020-10-01T02:58:47.644197Z",
     "start_time": "2020-10-01T02:58:42.954790Z"
    }
   },
   "outputs": [],
   "source": [
    "import pandas as pd\n",
    "import numpy as np\n",
    "pd.set_option('display.max_columns', None) \n",
    "\n",
    "import matplotlib.pyplot as plt\n",
    "import seaborn as sns\n",
    "\n",
    "from sklearn.linear_model import LinearRegression, Ridge, Lasso\n",
    "from sklearn.preprocessing import PolynomialFeatures, MinMaxScaler\n",
    "from sklearn.pipeline import Pipeline\n",
    "from sklearn.metrics import mean_squared_error, r2_score\n",
    "from sklearn.model_selection import train_test_split, KFold, cross_val_score\n",
    "\n",
    "import warnings\n",
    "warnings.filterwarnings('ignore')"
   ]
  },
  {
   "cell_type": "markdown",
   "metadata": {},
   "source": [
    "## Data Imports "
   ]
  },
  {
   "cell_type": "code",
   "execution_count": 2,
   "metadata": {
    "ExecuteTime": {
     "end_time": "2020-10-01T02:58:47.764735Z",
     "start_time": "2020-10-01T02:58:47.706328Z"
    }
   },
   "outputs": [],
   "source": [
    "df1_sleep_orig = pd.read_csv('person1_oura_2019-09-30_2020-09-30_trends.csv')"
   ]
  },
  {
   "cell_type": "code",
   "execution_count": 3,
   "metadata": {
    "ExecuteTime": {
     "end_time": "2020-10-01T02:58:47.819723Z",
     "start_time": "2020-10-01T02:58:47.772573Z"
    }
   },
   "outputs": [],
   "source": [
    "df2_sleep_orig = pd.read_csv('person2_oura_2020-07-22_2020-10-01_trends.csv')"
   ]
  },
  {
   "cell_type": "code",
   "execution_count": 4,
   "metadata": {
    "ExecuteTime": {
     "end_time": "2020-10-01T02:58:47.941558Z",
     "start_time": "2020-10-01T02:58:47.824054Z"
    }
   },
   "outputs": [],
   "source": [
    "df3_sleep_orig = pd.read_csv('person3_oura_2019-01-01_2020-09-22_trends.csv')"
   ]
  },
  {
   "cell_type": "code",
   "execution_count": 5,
   "metadata": {
    "ExecuteTime": {
     "end_time": "2020-10-01T02:58:47.989178Z",
     "start_time": "2020-10-01T02:58:47.947438Z"
    }
   },
   "outputs": [],
   "source": [
    "df_sleep = pd.concat([df1_sleep_orig, df2_sleep_orig, df3_sleep_orig])"
   ]
  },
  {
   "cell_type": "code",
   "execution_count": 6,
   "metadata": {
    "ExecuteTime": {
     "end_time": "2020-10-01T02:58:48.261252Z",
     "start_time": "2020-10-01T02:58:48.020075Z"
    }
   },
   "outputs": [
    {
     "data": {
      "text/html": [
       "<div>\n",
       "<style scoped>\n",
       "    .dataframe tbody tr th:only-of-type {\n",
       "        vertical-align: middle;\n",
       "    }\n",
       "\n",
       "    .dataframe tbody tr th {\n",
       "        vertical-align: top;\n",
       "    }\n",
       "\n",
       "    .dataframe thead th {\n",
       "        text-align: right;\n",
       "    }\n",
       "</style>\n",
       "<table border=\"1\" class=\"dataframe\">\n",
       "  <thead>\n",
       "    <tr style=\"text-align: right;\">\n",
       "      <th></th>\n",
       "      <th>date</th>\n",
       "      <th>Sleep Score</th>\n",
       "      <th>Total Sleep Score</th>\n",
       "      <th>REM Sleep Score</th>\n",
       "      <th>Deep Sleep Score</th>\n",
       "      <th>Sleep Efficiency Score</th>\n",
       "      <th>Restfulness Score</th>\n",
       "      <th>Sleep Latency Score</th>\n",
       "      <th>Sleep Timing Score</th>\n",
       "      <th>Total Bedtime</th>\n",
       "      <th>Total Sleep Time</th>\n",
       "      <th>Awake Time</th>\n",
       "      <th>REM Sleep Time</th>\n",
       "      <th>Light Sleep Time</th>\n",
       "      <th>Deep Sleep Time</th>\n",
       "      <th>Restless Sleep</th>\n",
       "      <th>Sleep Efficiency</th>\n",
       "      <th>Sleep Latency</th>\n",
       "      <th>Sleep Timing</th>\n",
       "      <th>Sleep Timing.1</th>\n",
       "      <th>Bedtime Start</th>\n",
       "      <th>Bedtime End</th>\n",
       "      <th>Average Resting Heart Rate</th>\n",
       "      <th>Lowest Resting Heart Rate</th>\n",
       "      <th>Average HRV</th>\n",
       "      <th>Temperature Deviation (°C)</th>\n",
       "      <th>Respiratory Rate</th>\n",
       "      <th>Activity Score</th>\n",
       "      <th>Stay Active Score</th>\n",
       "      <th>Move Every Hour Score</th>\n",
       "      <th>Meet Daily Targets Score</th>\n",
       "      <th>Training Frequency Score</th>\n",
       "      <th>Training Volume Score</th>\n",
       "      <th>Recovery Time Score</th>\n",
       "      <th>Activity Burn</th>\n",
       "      <th>Total Burn</th>\n",
       "      <th>Target Calories</th>\n",
       "      <th>Steps</th>\n",
       "      <th>Daily Movement</th>\n",
       "      <th>Inactive Time</th>\n",
       "      <th>Rest Time</th>\n",
       "      <th>Low Activity Time</th>\n",
       "      <th>Medium Activity Time</th>\n",
       "      <th>High Activity Time</th>\n",
       "      <th>Non-wear Time</th>\n",
       "      <th>Average MET</th>\n",
       "      <th>Long Periods of Inactivity</th>\n",
       "      <th>Readiness Score</th>\n",
       "      <th>Previous Night Score</th>\n",
       "      <th>Sleep Balance Score</th>\n",
       "      <th>Previous Day Activity Score</th>\n",
       "      <th>Activity Balance Score</th>\n",
       "      <th>Temperature Score</th>\n",
       "      <th>Resting Heart Rate Score</th>\n",
       "      <th>HRV Balance Score</th>\n",
       "      <th>Recovery Index Score</th>\n",
       "    </tr>\n",
       "  </thead>\n",
       "  <tbody>\n",
       "    <tr>\n",
       "      <th>0</th>\n",
       "      <td>2020-08-25</td>\n",
       "      <td>NaN</td>\n",
       "      <td>NaN</td>\n",
       "      <td>NaN</td>\n",
       "      <td>NaN</td>\n",
       "      <td>NaN</td>\n",
       "      <td>NaN</td>\n",
       "      <td>NaN</td>\n",
       "      <td>NaN</td>\n",
       "      <td>NaN</td>\n",
       "      <td>NaN</td>\n",
       "      <td>NaN</td>\n",
       "      <td>NaN</td>\n",
       "      <td>NaN</td>\n",
       "      <td>NaN</td>\n",
       "      <td>NaN</td>\n",
       "      <td>NaN</td>\n",
       "      <td>NaN</td>\n",
       "      <td>NaN</td>\n",
       "      <td>NaN</td>\n",
       "      <td>NaN</td>\n",
       "      <td>NaN</td>\n",
       "      <td>NaN</td>\n",
       "      <td>NaN</td>\n",
       "      <td>NaN</td>\n",
       "      <td>NaN</td>\n",
       "      <td>NaN</td>\n",
       "      <td>93.0</td>\n",
       "      <td>100.0</td>\n",
       "      <td>100.0</td>\n",
       "      <td>78.0</td>\n",
       "      <td>100.0</td>\n",
       "      <td>99.0</td>\n",
       "      <td>98.0</td>\n",
       "      <td>3.0</td>\n",
       "      <td>1996.0</td>\n",
       "      <td>500.0</td>\n",
       "      <td>84.0</td>\n",
       "      <td>41.0</td>\n",
       "      <td>36.0</td>\n",
       "      <td>178.0</td>\n",
       "      <td>4.0</td>\n",
       "      <td>0.0</td>\n",
       "      <td>0.0</td>\n",
       "      <td>1222.0</td>\n",
       "      <td>1.09375</td>\n",
       "      <td>0.0</td>\n",
       "      <td>NaN</td>\n",
       "      <td>NaN</td>\n",
       "      <td>NaN</td>\n",
       "      <td>NaN</td>\n",
       "      <td>NaN</td>\n",
       "      <td>NaN</td>\n",
       "      <td>NaN</td>\n",
       "      <td>NaN</td>\n",
       "      <td>NaN</td>\n",
       "    </tr>\n",
       "    <tr>\n",
       "      <th>1</th>\n",
       "      <td>2020-08-26</td>\n",
       "      <td>75.0</td>\n",
       "      <td>77.0</td>\n",
       "      <td>86.0</td>\n",
       "      <td>97.0</td>\n",
       "      <td>93.0</td>\n",
       "      <td>69.0</td>\n",
       "      <td>72.0</td>\n",
       "      <td>30.0</td>\n",
       "      <td>30120.0</td>\n",
       "      <td>26700.0</td>\n",
       "      <td>3420.0</td>\n",
       "      <td>6420.0</td>\n",
       "      <td>13320.0</td>\n",
       "      <td>6960.0</td>\n",
       "      <td>31.0</td>\n",
       "      <td>89.0</td>\n",
       "      <td>270.0</td>\n",
       "      <td>15060.0</td>\n",
       "      <td>NaN</td>\n",
       "      <td>2020-08-26T01:08:26-04:00</td>\n",
       "      <td>2020-08-26T09:30:26-04:00</td>\n",
       "      <td>59.52</td>\n",
       "      <td>54.0</td>\n",
       "      <td>61.0</td>\n",
       "      <td>-0.31</td>\n",
       "      <td>14.000</td>\n",
       "      <td>94.0</td>\n",
       "      <td>100.0</td>\n",
       "      <td>100.0</td>\n",
       "      <td>78.0</td>\n",
       "      <td>100.0</td>\n",
       "      <td>97.0</td>\n",
       "      <td>100.0</td>\n",
       "      <td>161.0</td>\n",
       "      <td>1907.0</td>\n",
       "      <td>450.0</td>\n",
       "      <td>4551.0</td>\n",
       "      <td>3598.0</td>\n",
       "      <td>152.0</td>\n",
       "      <td>557.0</td>\n",
       "      <td>114.0</td>\n",
       "      <td>16.0</td>\n",
       "      <td>0.0</td>\n",
       "      <td>601.0</td>\n",
       "      <td>1.21875</td>\n",
       "      <td>0.0</td>\n",
       "      <td>79.0</td>\n",
       "      <td>66.0</td>\n",
       "      <td>0.0</td>\n",
       "      <td>0.0</td>\n",
       "      <td>0.0</td>\n",
       "      <td>93.0</td>\n",
       "      <td>94.0</td>\n",
       "      <td>0.0</td>\n",
       "      <td>75.0</td>\n",
       "    </tr>\n",
       "    <tr>\n",
       "      <th>2</th>\n",
       "      <td>2020-08-27</td>\n",
       "      <td>82.0</td>\n",
       "      <td>100.0</td>\n",
       "      <td>100.0</td>\n",
       "      <td>100.0</td>\n",
       "      <td>88.0</td>\n",
       "      <td>67.0</td>\n",
       "      <td>62.0</td>\n",
       "      <td>18.0</td>\n",
       "      <td>40980.0</td>\n",
       "      <td>35670.0</td>\n",
       "      <td>5310.0</td>\n",
       "      <td>9480.0</td>\n",
       "      <td>16770.0</td>\n",
       "      <td>9420.0</td>\n",
       "      <td>27.0</td>\n",
       "      <td>87.0</td>\n",
       "      <td>30.0</td>\n",
       "      <td>19950.0</td>\n",
       "      <td>NaN</td>\n",
       "      <td>2020-08-27T00:33:26-04:00</td>\n",
       "      <td>2020-08-27T11:56:26-04:00</td>\n",
       "      <td>58.30</td>\n",
       "      <td>53.0</td>\n",
       "      <td>60.0</td>\n",
       "      <td>-0.01</td>\n",
       "      <td>14.000</td>\n",
       "      <td>89.0</td>\n",
       "      <td>100.0</td>\n",
       "      <td>100.0</td>\n",
       "      <td>60.0</td>\n",
       "      <td>96.0</td>\n",
       "      <td>95.0</td>\n",
       "      <td>100.0</td>\n",
       "      <td>2.0</td>\n",
       "      <td>1682.0</td>\n",
       "      <td>550.0</td>\n",
       "      <td>28.0</td>\n",
       "      <td>51.0</td>\n",
       "      <td>18.0</td>\n",
       "      <td>640.0</td>\n",
       "      <td>1.0</td>\n",
       "      <td>0.0</td>\n",
       "      <td>0.0</td>\n",
       "      <td>781.0</td>\n",
       "      <td>1.06250</td>\n",
       "      <td>0.0</td>\n",
       "      <td>91.0</td>\n",
       "      <td>81.0</td>\n",
       "      <td>0.0</td>\n",
       "      <td>0.0</td>\n",
       "      <td>0.0</td>\n",
       "      <td>100.0</td>\n",
       "      <td>96.0</td>\n",
       "      <td>0.0</td>\n",
       "      <td>100.0</td>\n",
       "    </tr>\n",
       "    <tr>\n",
       "      <th>3</th>\n",
       "      <td>2020-08-28</td>\n",
       "      <td>77.0</td>\n",
       "      <td>79.0</td>\n",
       "      <td>74.0</td>\n",
       "      <td>100.0</td>\n",
       "      <td>97.0</td>\n",
       "      <td>67.0</td>\n",
       "      <td>81.0</td>\n",
       "      <td>42.0</td>\n",
       "      <td>29820.0</td>\n",
       "      <td>27300.0</td>\n",
       "      <td>2520.0</td>\n",
       "      <td>5490.0</td>\n",
       "      <td>12600.0</td>\n",
       "      <td>9210.0</td>\n",
       "      <td>29.0</td>\n",
       "      <td>92.0</td>\n",
       "      <td>450.0</td>\n",
       "      <td>14820.0</td>\n",
       "      <td>NaN</td>\n",
       "      <td>2020-08-28T00:48:15-04:00</td>\n",
       "      <td>2020-08-28T09:05:15-04:00</td>\n",
       "      <td>56.65</td>\n",
       "      <td>52.0</td>\n",
       "      <td>64.0</td>\n",
       "      <td>-0.11</td>\n",
       "      <td>14.000</td>\n",
       "      <td>78.0</td>\n",
       "      <td>100.0</td>\n",
       "      <td>100.0</td>\n",
       "      <td>43.0</td>\n",
       "      <td>71.0</td>\n",
       "      <td>66.0</td>\n",
       "      <td>100.0</td>\n",
       "      <td>1.0</td>\n",
       "      <td>1714.0</td>\n",
       "      <td>450.0</td>\n",
       "      <td>21.0</td>\n",
       "      <td>4.0</td>\n",
       "      <td>28.0</td>\n",
       "      <td>391.0</td>\n",
       "      <td>2.0</td>\n",
       "      <td>0.0</td>\n",
       "      <td>0.0</td>\n",
       "      <td>1019.0</td>\n",
       "      <td>1.12500</td>\n",
       "      <td>0.0</td>\n",
       "      <td>81.0</td>\n",
       "      <td>73.0</td>\n",
       "      <td>77.0</td>\n",
       "      <td>0.0</td>\n",
       "      <td>88.0</td>\n",
       "      <td>100.0</td>\n",
       "      <td>90.0</td>\n",
       "      <td>0.0</td>\n",
       "      <td>85.0</td>\n",
       "    </tr>\n",
       "    <tr>\n",
       "      <th>4</th>\n",
       "      <td>2020-08-29</td>\n",
       "      <td>61.0</td>\n",
       "      <td>55.0</td>\n",
       "      <td>54.0</td>\n",
       "      <td>95.0</td>\n",
       "      <td>72.0</td>\n",
       "      <td>59.0</td>\n",
       "      <td>91.0</td>\n",
       "      <td>20.0</td>\n",
       "      <td>26340.0</td>\n",
       "      <td>21030.0</td>\n",
       "      <td>5310.0</td>\n",
       "      <td>4050.0</td>\n",
       "      <td>11130.0</td>\n",
       "      <td>5850.0</td>\n",
       "      <td>37.0</td>\n",
       "      <td>80.0</td>\n",
       "      <td>720.0</td>\n",
       "      <td>12090.0</td>\n",
       "      <td>NaN</td>\n",
       "      <td>2020-08-29T02:32:46-04:00</td>\n",
       "      <td>2020-08-29T09:51:46-04:00</td>\n",
       "      <td>65.18</td>\n",
       "      <td>58.0</td>\n",
       "      <td>59.0</td>\n",
       "      <td>0.07</td>\n",
       "      <td>14.875</td>\n",
       "      <td>74.0</td>\n",
       "      <td>100.0</td>\n",
       "      <td>100.0</td>\n",
       "      <td>43.0</td>\n",
       "      <td>71.0</td>\n",
       "      <td>40.0</td>\n",
       "      <td>100.0</td>\n",
       "      <td>4.0</td>\n",
       "      <td>1728.0</td>\n",
       "      <td>450.0</td>\n",
       "      <td>119.0</td>\n",
       "      <td>63.0</td>\n",
       "      <td>4.0</td>\n",
       "      <td>316.0</td>\n",
       "      <td>6.0</td>\n",
       "      <td>0.0</td>\n",
       "      <td>0.0</td>\n",
       "      <td>1114.0</td>\n",
       "      <td>1.12500</td>\n",
       "      <td>0.0</td>\n",
       "      <td>71.0</td>\n",
       "      <td>48.0</td>\n",
       "      <td>74.0</td>\n",
       "      <td>0.0</td>\n",
       "      <td>88.0</td>\n",
       "      <td>99.0</td>\n",
       "      <td>76.0</td>\n",
       "      <td>0.0</td>\n",
       "      <td>77.0</td>\n",
       "    </tr>\n",
       "  </tbody>\n",
       "</table>\n",
       "</div>"
      ],
      "text/plain": [
       "         date  Sleep Score  Total Sleep Score  REM Sleep Score  \\\n",
       "0  2020-08-25          NaN                NaN              NaN   \n",
       "1  2020-08-26         75.0               77.0             86.0   \n",
       "2  2020-08-27         82.0              100.0            100.0   \n",
       "3  2020-08-28         77.0               79.0             74.0   \n",
       "4  2020-08-29         61.0               55.0             54.0   \n",
       "\n",
       "   Deep Sleep Score  Sleep Efficiency Score  Restfulness Score  \\\n",
       "0               NaN                     NaN                NaN   \n",
       "1              97.0                    93.0               69.0   \n",
       "2             100.0                    88.0               67.0   \n",
       "3             100.0                    97.0               67.0   \n",
       "4              95.0                    72.0               59.0   \n",
       "\n",
       "   Sleep Latency Score  Sleep Timing Score  Total Bedtime  Total Sleep Time  \\\n",
       "0                  NaN                 NaN            NaN               NaN   \n",
       "1                 72.0                30.0        30120.0           26700.0   \n",
       "2                 62.0                18.0        40980.0           35670.0   \n",
       "3                 81.0                42.0        29820.0           27300.0   \n",
       "4                 91.0                20.0        26340.0           21030.0   \n",
       "\n",
       "   Awake Time  REM Sleep Time  Light Sleep Time  Deep Sleep Time  \\\n",
       "0         NaN             NaN               NaN              NaN   \n",
       "1      3420.0          6420.0           13320.0           6960.0   \n",
       "2      5310.0          9480.0           16770.0           9420.0   \n",
       "3      2520.0          5490.0           12600.0           9210.0   \n",
       "4      5310.0          4050.0           11130.0           5850.0   \n",
       "\n",
       "   Restless Sleep  Sleep Efficiency  Sleep Latency  Sleep Timing  \\\n",
       "0             NaN               NaN            NaN           NaN   \n",
       "1            31.0              89.0          270.0       15060.0   \n",
       "2            27.0              87.0           30.0       19950.0   \n",
       "3            29.0              92.0          450.0       14820.0   \n",
       "4            37.0              80.0          720.0       12090.0   \n",
       "\n",
       "   Sleep Timing.1              Bedtime Start                Bedtime End  \\\n",
       "0             NaN                        NaN                        NaN   \n",
       "1             NaN  2020-08-26T01:08:26-04:00  2020-08-26T09:30:26-04:00   \n",
       "2             NaN  2020-08-27T00:33:26-04:00  2020-08-27T11:56:26-04:00   \n",
       "3             NaN  2020-08-28T00:48:15-04:00  2020-08-28T09:05:15-04:00   \n",
       "4             NaN  2020-08-29T02:32:46-04:00  2020-08-29T09:51:46-04:00   \n",
       "\n",
       "   Average Resting Heart Rate  Lowest Resting Heart Rate  Average HRV  \\\n",
       "0                         NaN                        NaN          NaN   \n",
       "1                       59.52                       54.0         61.0   \n",
       "2                       58.30                       53.0         60.0   \n",
       "3                       56.65                       52.0         64.0   \n",
       "4                       65.18                       58.0         59.0   \n",
       "\n",
       "   Temperature Deviation (°C)  Respiratory Rate  Activity Score  \\\n",
       "0                         NaN               NaN            93.0   \n",
       "1                       -0.31            14.000            94.0   \n",
       "2                       -0.01            14.000            89.0   \n",
       "3                       -0.11            14.000            78.0   \n",
       "4                        0.07            14.875            74.0   \n",
       "\n",
       "   Stay Active Score  Move Every Hour Score  Meet Daily Targets Score  \\\n",
       "0              100.0                  100.0                      78.0   \n",
       "1              100.0                  100.0                      78.0   \n",
       "2              100.0                  100.0                      60.0   \n",
       "3              100.0                  100.0                      43.0   \n",
       "4              100.0                  100.0                      43.0   \n",
       "\n",
       "   Training Frequency Score  Training Volume Score  Recovery Time Score  \\\n",
       "0                     100.0                   99.0                 98.0   \n",
       "1                     100.0                   97.0                100.0   \n",
       "2                      96.0                   95.0                100.0   \n",
       "3                      71.0                   66.0                100.0   \n",
       "4                      71.0                   40.0                100.0   \n",
       "\n",
       "   Activity Burn  Total Burn  Target Calories   Steps  Daily Movement  \\\n",
       "0            3.0      1996.0            500.0    84.0            41.0   \n",
       "1          161.0      1907.0            450.0  4551.0          3598.0   \n",
       "2            2.0      1682.0            550.0    28.0            51.0   \n",
       "3            1.0      1714.0            450.0    21.0             4.0   \n",
       "4            4.0      1728.0            450.0   119.0            63.0   \n",
       "\n",
       "   Inactive Time  Rest Time  Low Activity Time  Medium Activity Time  \\\n",
       "0           36.0      178.0                4.0                   0.0   \n",
       "1          152.0      557.0              114.0                  16.0   \n",
       "2           18.0      640.0                1.0                   0.0   \n",
       "3           28.0      391.0                2.0                   0.0   \n",
       "4            4.0      316.0                6.0                   0.0   \n",
       "\n",
       "   High Activity Time  Non-wear Time  Average MET  Long Periods of Inactivity  \\\n",
       "0                 0.0         1222.0      1.09375                         0.0   \n",
       "1                 0.0          601.0      1.21875                         0.0   \n",
       "2                 0.0          781.0      1.06250                         0.0   \n",
       "3                 0.0         1019.0      1.12500                         0.0   \n",
       "4                 0.0         1114.0      1.12500                         0.0   \n",
       "\n",
       "   Readiness Score  Previous Night Score  Sleep Balance Score  \\\n",
       "0              NaN                   NaN                  NaN   \n",
       "1             79.0                  66.0                  0.0   \n",
       "2             91.0                  81.0                  0.0   \n",
       "3             81.0                  73.0                 77.0   \n",
       "4             71.0                  48.0                 74.0   \n",
       "\n",
       "   Previous Day Activity Score  Activity Balance Score  Temperature Score  \\\n",
       "0                          NaN                     NaN                NaN   \n",
       "1                          0.0                     0.0               93.0   \n",
       "2                          0.0                     0.0              100.0   \n",
       "3                          0.0                    88.0              100.0   \n",
       "4                          0.0                    88.0               99.0   \n",
       "\n",
       "   Resting Heart Rate Score  HRV Balance Score  Recovery Index Score  \n",
       "0                       NaN                NaN                   NaN  \n",
       "1                      94.0                0.0                  75.0  \n",
       "2                      96.0                0.0                 100.0  \n",
       "3                      90.0                0.0                  85.0  \n",
       "4                      76.0                0.0                  77.0  "
      ]
     },
     "execution_count": 6,
     "metadata": {},
     "output_type": "execute_result"
    }
   ],
   "source": [
    "df_sleep.head()"
   ]
  },
  {
   "cell_type": "code",
   "execution_count": 7,
   "metadata": {
    "ExecuteTime": {
     "end_time": "2020-10-01T02:58:48.288030Z",
     "start_time": "2020-10-01T02:58:48.278030Z"
    }
   },
   "outputs": [
    {
     "data": {
      "text/plain": [
       "(714, 56)"
      ]
     },
     "execution_count": 7,
     "metadata": {},
     "output_type": "execute_result"
    }
   ],
   "source": [
    "df_sleep.shape"
   ]
  },
  {
   "cell_type": "code",
   "execution_count": 8,
   "metadata": {
    "ExecuteTime": {
     "end_time": "2020-10-01T02:58:48.307022Z",
     "start_time": "2020-10-01T02:58:48.293557Z"
    }
   },
   "outputs": [
    {
     "data": {
      "text/plain": [
       "date                            object\n",
       "Sleep Score                    float64\n",
       "Total Sleep Score              float64\n",
       "REM Sleep Score                float64\n",
       "Deep Sleep Score               float64\n",
       "Sleep Efficiency Score         float64\n",
       "Restfulness Score              float64\n",
       "Sleep Latency Score            float64\n",
       "Sleep Timing Score             float64\n",
       "Total Bedtime                  float64\n",
       "Total Sleep Time               float64\n",
       "Awake Time                     float64\n",
       "REM Sleep Time                 float64\n",
       "Light Sleep Time               float64\n",
       "Deep Sleep Time                float64\n",
       "Restless Sleep                 float64\n",
       "Sleep Efficiency               float64\n",
       "Sleep Latency                  float64\n",
       "Sleep Timing                   float64\n",
       "Sleep Timing.1                 float64\n",
       "Bedtime Start                   object\n",
       "Bedtime End                     object\n",
       "Average Resting Heart Rate     float64\n",
       "Lowest Resting Heart Rate      float64\n",
       "Average HRV                    float64\n",
       "Temperature Deviation (°C)     float64\n",
       "Respiratory Rate               float64\n",
       "Activity Score                 float64\n",
       "Stay Active Score              float64\n",
       "Move Every Hour Score          float64\n",
       "Meet Daily Targets Score       float64\n",
       "Training Frequency Score       float64\n",
       "Training Volume Score          float64\n",
       "Recovery Time Score            float64\n",
       "Activity Burn                  float64\n",
       "Total Burn                     float64\n",
       "Target Calories                float64\n",
       "Steps                          float64\n",
       "Daily Movement                 float64\n",
       "Inactive Time                  float64\n",
       "Rest Time                      float64\n",
       "Low Activity Time              float64\n",
       "Medium Activity Time           float64\n",
       "High Activity Time             float64\n",
       "Non-wear Time                  float64\n",
       "Average MET                    float64\n",
       "Long Periods of Inactivity     float64\n",
       "Readiness Score                float64\n",
       "Previous Night Score           float64\n",
       "Sleep Balance Score            float64\n",
       "Previous Day Activity Score    float64\n",
       "Activity Balance Score         float64\n",
       "Temperature Score              float64\n",
       "Resting Heart Rate Score       float64\n",
       "HRV Balance Score              float64\n",
       "Recovery Index Score           float64\n",
       "dtype: object"
      ]
     },
     "execution_count": 8,
     "metadata": {},
     "output_type": "execute_result"
    }
   ],
   "source": [
    "df_sleep.dtypes"
   ]
  },
  {
   "cell_type": "markdown",
   "metadata": {},
   "source": [
    "# Data Transformations"
   ]
  },
  {
   "cell_type": "markdown",
   "metadata": {},
   "source": [
    "## Column renaming "
   ]
  },
  {
   "cell_type": "code",
   "execution_count": 9,
   "metadata": {
    "ExecuteTime": {
     "end_time": "2020-10-01T02:58:48.321483Z",
     "start_time": "2020-10-01T02:58:48.313216Z"
    }
   },
   "outputs": [],
   "source": [
    "df_sleep.rename(columns = lambda x: x.lower().replace(' ', '_'), inplace = True)"
   ]
  },
  {
   "cell_type": "markdown",
   "metadata": {},
   "source": [
    "## Removing columns "
   ]
  },
  {
   "cell_type": "code",
   "execution_count": 10,
   "metadata": {
    "ExecuteTime": {
     "end_time": "2020-10-01T02:58:48.334685Z",
     "start_time": "2020-10-01T02:58:48.327356Z"
    }
   },
   "outputs": [],
   "source": [
    "list_sleep_cols = ['date', 'sleep_score', 'total_bedtime', 'total_sleep_time',\n",
    "                   'awake_time', 'rem_sleep_time', 'light_sleep_time',\n",
    "                   'deep_sleep_time', 'restless_sleep', 'sleep_efficiency',\n",
    "                   'sleep_latency', 'sleep_timing', 'bedtime_start',\n",
    "                   'bedtime_end', 'average_resting_heart_rate',\n",
    "                   'lowest_resting_heart_rate', 'average_hrv',\n",
    "                   'temperature_deviation_(°c)', 'respiratory_rate']"
   ]
  },
  {
   "cell_type": "code",
   "execution_count": 11,
   "metadata": {
    "ExecuteTime": {
     "end_time": "2020-10-01T02:58:48.383379Z",
     "start_time": "2020-10-01T02:58:48.340959Z"
    }
   },
   "outputs": [],
   "source": [
    "df_sleep2 = df_sleep[list_sleep_cols].copy()"
   ]
  },
  {
   "cell_type": "code",
   "execution_count": 12,
   "metadata": {
    "ExecuteTime": {
     "end_time": "2020-10-01T02:58:48.409850Z",
     "start_time": "2020-10-01T02:58:48.397415Z"
    }
   },
   "outputs": [],
   "source": [
    "df_sleep3 = df_sleep2.copy()"
   ]
  },
  {
   "cell_type": "markdown",
   "metadata": {},
   "source": [
    "## Dropping Nans "
   ]
  },
  {
   "cell_type": "code",
   "execution_count": 13,
   "metadata": {
    "ExecuteTime": {
     "end_time": "2020-10-01T02:58:48.445372Z",
     "start_time": "2020-10-01T02:58:48.423776Z"
    }
   },
   "outputs": [
    {
     "data": {
      "text/plain": [
       "date                           0\n",
       "sleep_score                   95\n",
       "total_bedtime                 95\n",
       "total_sleep_time              95\n",
       "awake_time                    95\n",
       "rem_sleep_time                95\n",
       "light_sleep_time              95\n",
       "deep_sleep_time               95\n",
       "restless_sleep                95\n",
       "sleep_efficiency              95\n",
       "sleep_latency                 95\n",
       "sleep_timing                  95\n",
       "bedtime_start                 95\n",
       "bedtime_end                   95\n",
       "average_resting_heart_rate    95\n",
       "lowest_resting_heart_rate     96\n",
       "average_hrv                   96\n",
       "temperature_deviation_(°c)    95\n",
       "respiratory_rate              95\n",
       "dtype: int64"
      ]
     },
     "execution_count": 13,
     "metadata": {},
     "output_type": "execute_result"
    }
   ],
   "source": [
    "df_sleep3.isnull().sum()"
   ]
  },
  {
   "cell_type": "code",
   "execution_count": 14,
   "metadata": {
    "ExecuteTime": {
     "end_time": "2020-10-01T02:58:48.464489Z",
     "start_time": "2020-10-01T02:58:48.451293Z"
    }
   },
   "outputs": [],
   "source": [
    "df_sleep3.dropna(subset=['sleep_score', 'average_hrv'], inplace=True)"
   ]
  },
  {
   "cell_type": "code",
   "execution_count": 15,
   "metadata": {
    "ExecuteTime": {
     "end_time": "2020-10-01T02:58:48.492944Z",
     "start_time": "2020-10-01T02:58:48.477443Z"
    }
   },
   "outputs": [
    {
     "data": {
      "text/plain": [
       "date                          0\n",
       "sleep_score                   0\n",
       "total_bedtime                 0\n",
       "total_sleep_time              0\n",
       "awake_time                    0\n",
       "rem_sleep_time                0\n",
       "light_sleep_time              0\n",
       "deep_sleep_time               0\n",
       "restless_sleep                0\n",
       "sleep_efficiency              0\n",
       "sleep_latency                 0\n",
       "sleep_timing                  0\n",
       "bedtime_start                 0\n",
       "bedtime_end                   0\n",
       "average_resting_heart_rate    0\n",
       "lowest_resting_heart_rate     0\n",
       "average_hrv                   0\n",
       "temperature_deviation_(°c)    0\n",
       "respiratory_rate              0\n",
       "dtype: int64"
      ]
     },
     "execution_count": 15,
     "metadata": {},
     "output_type": "execute_result"
    }
   ],
   "source": [
    "df_sleep3.isnull().sum()"
   ]
  },
  {
   "cell_type": "markdown",
   "metadata": {},
   "source": [
    "## Removing Outliers "
   ]
  },
  {
   "cell_type": "code",
   "execution_count": 16,
   "metadata": {
    "ExecuteTime": {
     "end_time": "2020-10-01T02:58:48.517561Z",
     "start_time": "2020-10-01T02:58:48.506269Z"
    }
   },
   "outputs": [],
   "source": [
    "df_sleep4 = df_sleep3.copy()"
   ]
  },
  {
   "cell_type": "code",
   "execution_count": 17,
   "metadata": {
    "ExecuteTime": {
     "end_time": "2020-10-01T02:58:49.398748Z",
     "start_time": "2020-10-01T02:58:48.526569Z"
    }
   },
   "outputs": [
    {
     "data": {
      "image/png": "[encoded data removed]",
      "text/plain": [
       "<Figure size 432x288 with 1 Axes>"
      ]
     },
     "metadata": {
      "needs_background": "light"
     },
     "output_type": "display_data"
    }
   ],
   "source": [
    "df_sleep4['sleep_score'].hist()\n",
    "plt.title('Sleep Score Distribution');\n",
    "plt.xlabel('Sleep Score')\n",
    "plt.ylabel('Frequency');"
   ]
  },
  {
   "cell_type": "code",
   "execution_count": 18,
   "metadata": {
    "ExecuteTime": {
     "end_time": "2020-10-01T02:58:49.646290Z",
     "start_time": "2020-10-01T02:58:49.411099Z"
    }
   },
   "outputs": [
    {
     "data": {
      "text/html": [
       "<div>\n",
       "<style scoped>\n",
       "    .dataframe tbody tr th:only-of-type {\n",
       "        vertical-align: middle;\n",
       "    }\n",
       "\n",
       "    .dataframe tbody tr th {\n",
       "        vertical-align: top;\n",
       "    }\n",
       "\n",
       "    .dataframe thead th {\n",
       "        text-align: right;\n",
       "    }\n",
       "</style>\n",
       "<table border=\"1\" class=\"dataframe\">\n",
       "  <thead>\n",
       "    <tr style=\"text-align: right;\">\n",
       "      <th></th>\n",
       "      <th>sleep_score</th>\n",
       "      <th>total_bedtime</th>\n",
       "      <th>total_sleep_time</th>\n",
       "      <th>awake_time</th>\n",
       "      <th>rem_sleep_time</th>\n",
       "      <th>light_sleep_time</th>\n",
       "      <th>deep_sleep_time</th>\n",
       "      <th>restless_sleep</th>\n",
       "      <th>sleep_efficiency</th>\n",
       "      <th>sleep_latency</th>\n",
       "      <th>sleep_timing</th>\n",
       "      <th>average_resting_heart_rate</th>\n",
       "      <th>lowest_resting_heart_rate</th>\n",
       "      <th>average_hrv</th>\n",
       "      <th>temperature_deviation_(°c)</th>\n",
       "      <th>respiratory_rate</th>\n",
       "    </tr>\n",
       "  </thead>\n",
       "  <tbody>\n",
       "    <tr>\n",
       "      <th>count</th>\n",
       "      <td>618.000000</td>\n",
       "      <td>618.000000</td>\n",
       "      <td>618.000000</td>\n",
       "      <td>618.000000</td>\n",
       "      <td>618.000000</td>\n",
       "      <td>618.000000</td>\n",
       "      <td>618.000000</td>\n",
       "      <td>618.00000</td>\n",
       "      <td>618.000000</td>\n",
       "      <td>618.000000</td>\n",
       "      <td>618.000000</td>\n",
       "      <td>618.000000</td>\n",
       "      <td>618.000000</td>\n",
       "      <td>618.000000</td>\n",
       "      <td>618.000000</td>\n",
       "      <td>618.000000</td>\n",
       "    </tr>\n",
       "    <tr>\n",
       "      <th>mean</th>\n",
       "      <td>69.113269</td>\n",
       "      <td>27589.514563</td>\n",
       "      <td>22967.038835</td>\n",
       "      <td>4622.475728</td>\n",
       "      <td>3788.786408</td>\n",
       "      <td>10757.281553</td>\n",
       "      <td>8420.970874</td>\n",
       "      <td>35.23301</td>\n",
       "      <td>83.490291</td>\n",
       "      <td>673.398058</td>\n",
       "      <td>13587.038835</td>\n",
       "      <td>57.261303</td>\n",
       "      <td>49.375405</td>\n",
       "      <td>81.962783</td>\n",
       "      <td>0.014207</td>\n",
       "      <td>14.362257</td>\n",
       "    </tr>\n",
       "    <tr>\n",
       "      <th>std</th>\n",
       "      <td>8.635240</td>\n",
       "      <td>4548.416444</td>\n",
       "      <td>3707.174454</td>\n",
       "      <td>2071.116530</td>\n",
       "      <td>1620.729166</td>\n",
       "      <td>2889.395363</td>\n",
       "      <td>1858.558031</td>\n",
       "      <td>6.56404</td>\n",
       "      <td>5.981392</td>\n",
       "      <td>497.707327</td>\n",
       "      <td>2356.468349</td>\n",
       "      <td>5.989387</td>\n",
       "      <td>5.243952</td>\n",
       "      <td>24.507603</td>\n",
       "      <td>0.275098</td>\n",
       "      <td>0.721581</td>\n",
       "    </tr>\n",
       "    <tr>\n",
       "      <th>min</th>\n",
       "      <td>34.000000</td>\n",
       "      <td>13320.000000</td>\n",
       "      <td>10830.000000</td>\n",
       "      <td>750.000000</td>\n",
       "      <td>90.000000</td>\n",
       "      <td>3150.000000</td>\n",
       "      <td>1980.000000</td>\n",
       "      <td>13.00000</td>\n",
       "      <td>48.000000</td>\n",
       "      <td>30.000000</td>\n",
       "      <td>6450.000000</td>\n",
       "      <td>45.740000</td>\n",
       "      <td>40.000000</td>\n",
       "      <td>10.000000</td>\n",
       "      <td>-0.670000</td>\n",
       "      <td>11.625000</td>\n",
       "    </tr>\n",
       "    <tr>\n",
       "      <th>25%</th>\n",
       "      <td>63.000000</td>\n",
       "      <td>24780.000000</td>\n",
       "      <td>20790.000000</td>\n",
       "      <td>3247.500000</td>\n",
       "      <td>2737.500000</td>\n",
       "      <td>8850.000000</td>\n",
       "      <td>7410.000000</td>\n",
       "      <td>31.00000</td>\n",
       "      <td>80.000000</td>\n",
       "      <td>330.000000</td>\n",
       "      <td>12187.500000</td>\n",
       "      <td>53.625000</td>\n",
       "      <td>46.000000</td>\n",
       "      <td>67.000000</td>\n",
       "      <td>-0.150000</td>\n",
       "      <td>14.000000</td>\n",
       "    </tr>\n",
       "    <tr>\n",
       "      <th>50%</th>\n",
       "      <td>70.000000</td>\n",
       "      <td>27780.000000</td>\n",
       "      <td>23070.000000</td>\n",
       "      <td>4170.000000</td>\n",
       "      <td>3660.000000</td>\n",
       "      <td>10635.000000</td>\n",
       "      <td>8460.000000</td>\n",
       "      <td>35.00000</td>\n",
       "      <td>84.000000</td>\n",
       "      <td>600.000000</td>\n",
       "      <td>13560.000000</td>\n",
       "      <td>56.360000</td>\n",
       "      <td>49.000000</td>\n",
       "      <td>82.500000</td>\n",
       "      <td>0.000000</td>\n",
       "      <td>14.250000</td>\n",
       "    </tr>\n",
       "    <tr>\n",
       "      <th>75%</th>\n",
       "      <td>75.000000</td>\n",
       "      <td>30180.000000</td>\n",
       "      <td>25350.000000</td>\n",
       "      <td>5730.000000</td>\n",
       "      <td>4740.000000</td>\n",
       "      <td>12540.000000</td>\n",
       "      <td>9622.500000</td>\n",
       "      <td>39.00000</td>\n",
       "      <td>88.000000</td>\n",
       "      <td>930.000000</td>\n",
       "      <td>14902.500000</td>\n",
       "      <td>59.565000</td>\n",
       "      <td>52.000000</td>\n",
       "      <td>100.000000</td>\n",
       "      <td>0.130000</td>\n",
       "      <td>14.750000</td>\n",
       "    </tr>\n",
       "    <tr>\n",
       "      <th>max</th>\n",
       "      <td>90.000000</td>\n",
       "      <td>49740.000000</td>\n",
       "      <td>38040.000000</td>\n",
       "      <td>16710.000000</td>\n",
       "      <td>11970.000000</td>\n",
       "      <td>22200.000000</td>\n",
       "      <td>14130.000000</td>\n",
       "      <td>62.00000</td>\n",
       "      <td>96.000000</td>\n",
       "      <td>6180.000000</td>\n",
       "      <td>24960.000000</td>\n",
       "      <td>86.810000</td>\n",
       "      <td>80.000000</td>\n",
       "      <td>157.000000</td>\n",
       "      <td>3.440000</td>\n",
       "      <td>20.250000</td>\n",
       "    </tr>\n",
       "  </tbody>\n",
       "</table>\n",
       "</div>"
      ],
      "text/plain": [
       "       sleep_score  total_bedtime  total_sleep_time    awake_time  \\\n",
       "count   618.000000     618.000000        618.000000    618.000000   \n",
       "mean     69.113269   27589.514563      22967.038835   4622.475728   \n",
       "std       8.635240    4548.416444       3707.174454   2071.116530   \n",
       "min      34.000000   13320.000000      10830.000000    750.000000   \n",
       "25%      63.000000   24780.000000      20790.000000   3247.500000   \n",
       "50%      70.000000   27780.000000      23070.000000   4170.000000   \n",
       "75%      75.000000   30180.000000      25350.000000   5730.000000   \n",
       "max      90.000000   49740.000000      38040.000000  16710.000000   \n",
       "\n",
       "       rem_sleep_time  light_sleep_time  deep_sleep_time  restless_sleep  \\\n",
       "count      618.000000        618.000000       618.000000       618.00000   \n",
       "mean      3788.786408      10757.281553      8420.970874        35.23301   \n",
       "std       1620.729166       2889.395363      1858.558031         6.56404   \n",
       "min         90.000000       3150.000000      1980.000000        13.00000   \n",
       "25%       2737.500000       8850.000000      7410.000000        31.00000   \n",
       "50%       3660.000000      10635.000000      8460.000000        35.00000   \n",
       "75%       4740.000000      12540.000000      9622.500000        39.00000   \n",
       "max      11970.000000      22200.000000     14130.000000        62.00000   \n",
       "\n",
       "       sleep_efficiency  sleep_latency  sleep_timing  \\\n",
       "count        618.000000     618.000000    618.000000   \n",
       "mean          83.490291     673.398058  13587.038835   \n",
       "std            5.981392     497.707327   2356.468349   \n",
       "min           48.000000      30.000000   6450.000000   \n",
       "25%           80.000000     330.000000  12187.500000   \n",
       "50%           84.000000     600.000000  13560.000000   \n",
       "75%           88.000000     930.000000  14902.500000   \n",
       "max           96.000000    6180.000000  24960.000000   \n",
       "\n",
       "       average_resting_heart_rate  lowest_resting_heart_rate  average_hrv  \\\n",
       "count                  618.000000                 618.000000   618.000000   \n",
       "mean                    57.261303                  49.375405    81.962783   \n",
       "std                      5.989387                   5.243952    24.507603   \n",
       "min                     45.740000                  40.000000    10.000000   \n",
       "25%                     53.625000                  46.000000    67.000000   \n",
       "50%                     56.360000                  49.000000    82.500000   \n",
       "75%                     59.565000                  52.000000   100.000000   \n",
       "max                     86.810000                  80.000000   157.000000   \n",
       "\n",
       "       temperature_deviation_(°c)  respiratory_rate  \n",
       "count                  618.000000        618.000000  \n",
       "mean                     0.014207         14.362257  \n",
       "std                      0.275098          0.721581  \n",
       "min                     -0.670000         11.625000  \n",
       "25%                     -0.150000         14.000000  \n",
       "50%                      0.000000         14.250000  \n",
       "75%                      0.130000         14.750000  \n",
       "max                      3.440000         20.250000  "
      ]
     },
     "execution_count": 18,
     "metadata": {},
     "output_type": "execute_result"
    }
   ],
   "source": [
    "df_sleep4.describe()"
   ]
  },
  {
   "cell_type": "code",
   "execution_count": 19,
   "metadata": {
    "ExecuteTime": {
     "end_time": "2020-10-01T02:58:49.670503Z",
     "start_time": "2020-10-01T02:58:49.652910Z"
    }
   },
   "outputs": [
    {
     "name": "stdout",
     "output_type": "stream",
     "text": [
      "sleep_score                     12.00\n",
      "total_bedtime                 5400.00\n",
      "total_sleep_time              4560.00\n",
      "awake_time                    2482.50\n",
      "rem_sleep_time                2002.50\n",
      "light_sleep_time              3690.00\n",
      "deep_sleep_time               2212.50\n",
      "restless_sleep                   8.00\n",
      "sleep_efficiency                 8.00\n",
      "sleep_latency                  600.00\n",
      "sleep_timing                  2715.00\n",
      "average_resting_heart_rate       5.94\n",
      "lowest_resting_heart_rate        6.00\n",
      "average_hrv                     33.00\n",
      "temperature_deviation_(°c)       0.28\n",
      "respiratory_rate                 0.75\n",
      "dtype: float64\n"
     ]
    }
   ],
   "source": [
    "Q1 = df_sleep4.quantile(0.25)\n",
    "Q3 = df_sleep4.quantile(0.75)\n",
    "IQR = Q3 - Q1\n",
    "print(IQR)"
   ]
  },
  {
   "cell_type": "code",
   "execution_count": 20,
   "metadata": {
    "ExecuteTime": {
     "end_time": "2020-10-01T02:58:49.743290Z",
     "start_time": "2020-10-01T02:58:49.677498Z"
    }
   },
   "outputs": [],
   "source": [
    "df_sleep5 = df_sleep4.loc[~((df_sleep4 < (Q1 - 1.5 * IQR)) |\n",
    "                            (df_sleep4 > (Q3 + 1.5 * IQR))).any(axis=1)].copy()"
   ]
  },
  {
   "cell_type": "code",
   "execution_count": 21,
   "metadata": {
    "ExecuteTime": {
     "end_time": "2020-10-01T02:58:49.861691Z",
     "start_time": "2020-10-01T02:58:49.855523Z"
    }
   },
   "outputs": [],
   "source": [
    "df_s = df_sleep5.copy()"
   ]
  },
  {
   "cell_type": "markdown",
   "metadata": {},
   "source": [
    "# Data Exploration"
   ]
  },
  {
   "cell_type": "markdown",
   "metadata": {},
   "source": [
    "## Plotting "
   ]
  },
  {
   "cell_type": "code",
   "execution_count": 22,
   "metadata": {
    "ExecuteTime": {
     "end_time": "2020-10-01T02:58:49.910826Z",
     "start_time": "2020-10-01T02:58:49.903523Z"
    }
   },
   "outputs": [
    {
     "data": {
      "text/plain": [
       "(518, 19)"
      ]
     },
     "execution_count": 22,
     "metadata": {},
     "output_type": "execute_result"
    }
   ],
   "source": [
    "df_s.shape"
   ]
  },
  {
   "cell_type": "code",
   "execution_count": 23,
   "metadata": {
    "ExecuteTime": {
     "end_time": "2020-10-01T02:58:49.956251Z",
     "start_time": "2020-10-01T02:58:49.915223Z"
    }
   },
   "outputs": [
    {
     "data": {
      "text/html": [
       "<div>\n",
       "<style scoped>\n",
       "    .dataframe tbody tr th:only-of-type {\n",
       "        vertical-align: middle;\n",
       "    }\n",
       "\n",
       "    .dataframe tbody tr th {\n",
       "        vertical-align: top;\n",
       "    }\n",
       "\n",
       "    .dataframe thead th {\n",
       "        text-align: right;\n",
       "    }\n",
       "</style>\n",
       "<table border=\"1\" class=\"dataframe\">\n",
       "  <thead>\n",
       "    <tr style=\"text-align: right;\">\n",
       "      <th></th>\n",
       "      <th>date</th>\n",
       "      <th>sleep_score</th>\n",
       "      <th>total_bedtime</th>\n",
       "      <th>total_sleep_time</th>\n",
       "      <th>awake_time</th>\n",
       "      <th>rem_sleep_time</th>\n",
       "      <th>light_sleep_time</th>\n",
       "      <th>deep_sleep_time</th>\n",
       "      <th>restless_sleep</th>\n",
       "      <th>sleep_efficiency</th>\n",
       "      <th>sleep_latency</th>\n",
       "      <th>sleep_timing</th>\n",
       "      <th>bedtime_start</th>\n",
       "      <th>bedtime_end</th>\n",
       "      <th>average_resting_heart_rate</th>\n",
       "      <th>lowest_resting_heart_rate</th>\n",
       "      <th>average_hrv</th>\n",
       "      <th>temperature_deviation_(°c)</th>\n",
       "      <th>respiratory_rate</th>\n",
       "    </tr>\n",
       "  </thead>\n",
       "  <tbody>\n",
       "    <tr>\n",
       "      <th>1</th>\n",
       "      <td>2020-08-26</td>\n",
       "      <td>75.0</td>\n",
       "      <td>30120.0</td>\n",
       "      <td>26700.0</td>\n",
       "      <td>3420.0</td>\n",
       "      <td>6420.0</td>\n",
       "      <td>13320.0</td>\n",
       "      <td>6960.0</td>\n",
       "      <td>31.0</td>\n",
       "      <td>89.0</td>\n",
       "      <td>270.0</td>\n",
       "      <td>15060.0</td>\n",
       "      <td>2020-08-26T01:08:26-04:00</td>\n",
       "      <td>2020-08-26T09:30:26-04:00</td>\n",
       "      <td>59.52</td>\n",
       "      <td>54.0</td>\n",
       "      <td>61.0</td>\n",
       "      <td>-0.31</td>\n",
       "      <td>14.000</td>\n",
       "    </tr>\n",
       "    <tr>\n",
       "      <th>3</th>\n",
       "      <td>2020-08-28</td>\n",
       "      <td>77.0</td>\n",
       "      <td>29820.0</td>\n",
       "      <td>27300.0</td>\n",
       "      <td>2520.0</td>\n",
       "      <td>5490.0</td>\n",
       "      <td>12600.0</td>\n",
       "      <td>9210.0</td>\n",
       "      <td>29.0</td>\n",
       "      <td>92.0</td>\n",
       "      <td>450.0</td>\n",
       "      <td>14820.0</td>\n",
       "      <td>2020-08-28T00:48:15-04:00</td>\n",
       "      <td>2020-08-28T09:05:15-04:00</td>\n",
       "      <td>56.65</td>\n",
       "      <td>52.0</td>\n",
       "      <td>64.0</td>\n",
       "      <td>-0.11</td>\n",
       "      <td>14.000</td>\n",
       "    </tr>\n",
       "    <tr>\n",
       "      <th>4</th>\n",
       "      <td>2020-08-29</td>\n",
       "      <td>61.0</td>\n",
       "      <td>26340.0</td>\n",
       "      <td>21030.0</td>\n",
       "      <td>5310.0</td>\n",
       "      <td>4050.0</td>\n",
       "      <td>11130.0</td>\n",
       "      <td>5850.0</td>\n",
       "      <td>37.0</td>\n",
       "      <td>80.0</td>\n",
       "      <td>720.0</td>\n",
       "      <td>12090.0</td>\n",
       "      <td>2020-08-29T02:32:46-04:00</td>\n",
       "      <td>2020-08-29T09:51:46-04:00</td>\n",
       "      <td>65.18</td>\n",
       "      <td>58.0</td>\n",
       "      <td>59.0</td>\n",
       "      <td>0.07</td>\n",
       "      <td>14.875</td>\n",
       "    </tr>\n",
       "    <tr>\n",
       "      <th>9</th>\n",
       "      <td>2020-09-03</td>\n",
       "      <td>75.0</td>\n",
       "      <td>31380.0</td>\n",
       "      <td>27060.0</td>\n",
       "      <td>4320.0</td>\n",
       "      <td>6990.0</td>\n",
       "      <td>10680.0</td>\n",
       "      <td>9390.0</td>\n",
       "      <td>25.0</td>\n",
       "      <td>86.0</td>\n",
       "      <td>240.0</td>\n",
       "      <td>15390.0</td>\n",
       "      <td>2020-09-03T01:54:14-04:00</td>\n",
       "      <td>2020-09-03T10:37:14-04:00</td>\n",
       "      <td>57.95</td>\n",
       "      <td>52.0</td>\n",
       "      <td>52.0</td>\n",
       "      <td>-0.14</td>\n",
       "      <td>13.875</td>\n",
       "    </tr>\n",
       "    <tr>\n",
       "      <th>10</th>\n",
       "      <td>2020-09-04</td>\n",
       "      <td>75.0</td>\n",
       "      <td>26580.0</td>\n",
       "      <td>24120.0</td>\n",
       "      <td>2460.0</td>\n",
       "      <td>5190.0</td>\n",
       "      <td>11700.0</td>\n",
       "      <td>7230.0</td>\n",
       "      <td>22.0</td>\n",
       "      <td>91.0</td>\n",
       "      <td>510.0</td>\n",
       "      <td>13050.0</td>\n",
       "      <td>2020-09-04T00:41:53-04:00</td>\n",
       "      <td>2020-09-04T08:04:53-04:00</td>\n",
       "      <td>59.12</td>\n",
       "      <td>54.0</td>\n",
       "      <td>53.0</td>\n",
       "      <td>-0.28</td>\n",
       "      <td>14.500</td>\n",
       "    </tr>\n",
       "  </tbody>\n",
       "</table>\n",
       "</div>"
      ],
      "text/plain": [
       "          date  sleep_score  total_bedtime  total_sleep_time  awake_time  \\\n",
       "1   2020-08-26         75.0        30120.0           26700.0      3420.0   \n",
       "3   2020-08-28         77.0        29820.0           27300.0      2520.0   \n",
       "4   2020-08-29         61.0        26340.0           21030.0      5310.0   \n",
       "9   2020-09-03         75.0        31380.0           27060.0      4320.0   \n",
       "10  2020-09-04         75.0        26580.0           24120.0      2460.0   \n",
       "\n",
       "    rem_sleep_time  light_sleep_time  deep_sleep_time  restless_sleep  \\\n",
       "1           6420.0           13320.0           6960.0            31.0   \n",
       "3           5490.0           12600.0           9210.0            29.0   \n",
       "4           4050.0           11130.0           5850.0            37.0   \n",
       "9           6990.0           10680.0           9390.0            25.0   \n",
       "10          5190.0           11700.0           7230.0            22.0   \n",
       "\n",
       "    sleep_efficiency  sleep_latency  sleep_timing              bedtime_start  \\\n",
       "1               89.0          270.0       15060.0  2020-08-26T01:08:26-04:00   \n",
       "3               92.0          450.0       14820.0  2020-08-28T00:48:15-04:00   \n",
       "4               80.0          720.0       12090.0  2020-08-29T02:32:46-04:00   \n",
       "9               86.0          240.0       15390.0  2020-09-03T01:54:14-04:00   \n",
       "10              91.0          510.0       13050.0  2020-09-04T00:41:53-04:00   \n",
       "\n",
       "                  bedtime_end  average_resting_heart_rate  \\\n",
       "1   2020-08-26T09:30:26-04:00                       59.52   \n",
       "3   2020-08-28T09:05:15-04:00                       56.65   \n",
       "4   2020-08-29T09:51:46-04:00                       65.18   \n",
       "9   2020-09-03T10:37:14-04:00                       57.95   \n",
       "10  2020-09-04T08:04:53-04:00                       59.12   \n",
       "\n",
       "    lowest_resting_heart_rate  average_hrv  temperature_deviation_(°c)  \\\n",
       "1                        54.0         61.0                       -0.31   \n",
       "3                        52.0         64.0                       -0.11   \n",
       "4                        58.0         59.0                        0.07   \n",
       "9                        52.0         52.0                       -0.14   \n",
       "10                       54.0         53.0                       -0.28   \n",
       "\n",
       "    respiratory_rate  \n",
       "1             14.000  \n",
       "3             14.000  \n",
       "4             14.875  \n",
       "9             13.875  \n",
       "10            14.500  "
      ]
     },
     "execution_count": 23,
     "metadata": {},
     "output_type": "execute_result"
    }
   ],
   "source": [
    "df_s.head()"
   ]
  },
  {
   "cell_type": "code",
   "execution_count": 24,
   "metadata": {
    "ExecuteTime": {
     "end_time": "2020-10-01T02:58:50.774162Z",
     "start_time": "2020-10-01T02:58:49.961774Z"
    }
   },
   "outputs": [
    {
     "data": {
      "text/plain": [
       "<matplotlib.axes._subplots.AxesSubplot at 0x7f854b101630>"
      ]
     },
     "execution_count": 24,
     "metadata": {},
     "output_type": "execute_result"
    },
    {
     "data": {
      "image/png": "[encoded data removed]",
      "text/plain": [
       "<Figure size 432x288 with 1 Axes>"
      ]
     },
     "metadata": {
      "needs_background": "light"
     },
     "output_type": "display_data"
    }
   ],
   "source": [
    "df_s['sleep_score'].hist()"
   ]
  },
  {
   "cell_type": "code",
   "execution_count": 25,
   "metadata": {
    "ExecuteTime": {
     "end_time": "2020-10-01T02:59:08.754572Z",
     "start_time": "2020-10-01T02:58:50.781102Z"
    }
   },
   "outputs": [
    {
     "data": {
      "text/plain": [
       "<seaborn.axisgrid.PairGrid at 0x7f854b25f390>"
      ]
     },
     "execution_count": 25,
     "metadata": {},
     "output_type": "execute_result"
    },
    {
     "data": {
      "image/png": "[encoded data removed]",
      "text/plain": [
       "<Figure size 720x720 with 20 Axes>"
      ]
     },
     "metadata": {
      "needs_background": "light"
     },
     "output_type": "display_data"
    }
   ],
   "source": [
    "sns.pairplot(df_s[['sleep_score', 'total_bedtime',\n",
    "                   'rem_sleep_time', 'deep_sleep_time']])"
   ]
  },
  {
   "cell_type": "markdown",
   "metadata": {},
   "source": [
    "# Machine Learning Regressions "
   ]
  },
  {
   "cell_type": "markdown",
   "metadata": {},
   "source": [
    "## Data Prep "
   ]
  },
  {
   "cell_type": "code",
   "execution_count": 26,
   "metadata": {
    "ExecuteTime": {
     "end_time": "2020-10-01T02:59:08.791832Z",
     "start_time": "2020-10-01T02:59:08.775156Z"
    }
   },
   "outputs": [],
   "source": [
    "list_raw_sleep_cols = ['total_bedtime', 'total_sleep_time', 'awake_time',\n",
    "                       'rem_sleep_time', 'light_sleep_time',\n",
    "                       'deep_sleep_time', 'restless_sleep', 'sleep_efficiency',\n",
    "                       'sleep_latency', 'sleep_timing',\n",
    "                       'average_resting_heart_rate', \n",
    "                       'lowest_resting_heart_rate', 'average_hrv',\n",
    "                       'temperature_deviation_(°c)', 'respiratory_rate']\n",
    "list_col_poly = [f'x{i}' for i in range(0, len(list_raw_sleep_cols))]\n",
    "df_col_names = pd.DataFrame(list_col_poly, index=list_raw_sleep_cols,\n",
    "                            columns=['Poly Name'])\n",
    "df_col_names;"
   ]
  },
  {
   "cell_type": "code",
   "execution_count": 27,
   "metadata": {
    "ExecuteTime": {
     "end_time": "2020-10-01T02:59:08.915903Z",
     "start_time": "2020-10-01T02:59:08.805206Z"
    }
   },
   "outputs": [],
   "source": [
    "X = df_s[list_raw_sleep_cols]\n",
    "y = df_s[['sleep_score']]"
   ]
  },
  {
   "cell_type": "code",
   "execution_count": 28,
   "metadata": {
    "ExecuteTime": {
     "end_time": "2020-10-01T02:59:09.102887Z",
     "start_time": "2020-10-01T02:59:08.929534Z"
    }
   },
   "outputs": [
    {
     "data": {
      "text/html": [
       "<div>\n",
       "<style scoped>\n",
       "    .dataframe tbody tr th:only-of-type {\n",
       "        vertical-align: middle;\n",
       "    }\n",
       "\n",
       "    .dataframe tbody tr th {\n",
       "        vertical-align: top;\n",
       "    }\n",
       "\n",
       "    .dataframe thead th {\n",
       "        text-align: right;\n",
       "    }\n",
       "</style>\n",
       "<table border=\"1\" class=\"dataframe\">\n",
       "  <thead>\n",
       "    <tr style=\"text-align: right;\">\n",
       "      <th></th>\n",
       "      <th>sleep_score</th>\n",
       "      <th>total_bedtime</th>\n",
       "      <th>total_sleep_time</th>\n",
       "      <th>awake_time</th>\n",
       "      <th>rem_sleep_time</th>\n",
       "      <th>light_sleep_time</th>\n",
       "      <th>deep_sleep_time</th>\n",
       "      <th>restless_sleep</th>\n",
       "      <th>sleep_efficiency</th>\n",
       "      <th>sleep_latency</th>\n",
       "      <th>sleep_timing</th>\n",
       "      <th>average_resting_heart_rate</th>\n",
       "      <th>lowest_resting_heart_rate</th>\n",
       "      <th>average_hrv</th>\n",
       "      <th>temperature_deviation_(°c)</th>\n",
       "      <th>respiratory_rate</th>\n",
       "    </tr>\n",
       "  </thead>\n",
       "  <tbody>\n",
       "    <tr>\n",
       "      <th>0</th>\n",
       "      <td>75.0</td>\n",
       "      <td>30120.0</td>\n",
       "      <td>26700.0</td>\n",
       "      <td>3420.0</td>\n",
       "      <td>6420.0</td>\n",
       "      <td>13320.0</td>\n",
       "      <td>6960.0</td>\n",
       "      <td>31.0</td>\n",
       "      <td>89.0</td>\n",
       "      <td>270.0</td>\n",
       "      <td>15060.0</td>\n",
       "      <td>59.52</td>\n",
       "      <td>54.0</td>\n",
       "      <td>61.0</td>\n",
       "      <td>-0.31</td>\n",
       "      <td>14.000</td>\n",
       "    </tr>\n",
       "    <tr>\n",
       "      <th>1</th>\n",
       "      <td>77.0</td>\n",
       "      <td>29820.0</td>\n",
       "      <td>27300.0</td>\n",
       "      <td>2520.0</td>\n",
       "      <td>5490.0</td>\n",
       "      <td>12600.0</td>\n",
       "      <td>9210.0</td>\n",
       "      <td>29.0</td>\n",
       "      <td>92.0</td>\n",
       "      <td>450.0</td>\n",
       "      <td>14820.0</td>\n",
       "      <td>56.65</td>\n",
       "      <td>52.0</td>\n",
       "      <td>64.0</td>\n",
       "      <td>-0.11</td>\n",
       "      <td>14.000</td>\n",
       "    </tr>\n",
       "    <tr>\n",
       "      <th>2</th>\n",
       "      <td>61.0</td>\n",
       "      <td>26340.0</td>\n",
       "      <td>21030.0</td>\n",
       "      <td>5310.0</td>\n",
       "      <td>4050.0</td>\n",
       "      <td>11130.0</td>\n",
       "      <td>5850.0</td>\n",
       "      <td>37.0</td>\n",
       "      <td>80.0</td>\n",
       "      <td>720.0</td>\n",
       "      <td>12090.0</td>\n",
       "      <td>65.18</td>\n",
       "      <td>58.0</td>\n",
       "      <td>59.0</td>\n",
       "      <td>0.07</td>\n",
       "      <td>14.875</td>\n",
       "    </tr>\n",
       "    <tr>\n",
       "      <th>3</th>\n",
       "      <td>75.0</td>\n",
       "      <td>31380.0</td>\n",
       "      <td>27060.0</td>\n",
       "      <td>4320.0</td>\n",
       "      <td>6990.0</td>\n",
       "      <td>10680.0</td>\n",
       "      <td>9390.0</td>\n",
       "      <td>25.0</td>\n",
       "      <td>86.0</td>\n",
       "      <td>240.0</td>\n",
       "      <td>15390.0</td>\n",
       "      <td>57.95</td>\n",
       "      <td>52.0</td>\n",
       "      <td>52.0</td>\n",
       "      <td>-0.14</td>\n",
       "      <td>13.875</td>\n",
       "    </tr>\n",
       "    <tr>\n",
       "      <th>4</th>\n",
       "      <td>75.0</td>\n",
       "      <td>26580.0</td>\n",
       "      <td>24120.0</td>\n",
       "      <td>2460.0</td>\n",
       "      <td>5190.0</td>\n",
       "      <td>11700.0</td>\n",
       "      <td>7230.0</td>\n",
       "      <td>22.0</td>\n",
       "      <td>91.0</td>\n",
       "      <td>510.0</td>\n",
       "      <td>13050.0</td>\n",
       "      <td>59.12</td>\n",
       "      <td>54.0</td>\n",
       "      <td>53.0</td>\n",
       "      <td>-0.28</td>\n",
       "      <td>14.500</td>\n",
       "    </tr>\n",
       "    <tr>\n",
       "      <th>...</th>\n",
       "      <td>...</td>\n",
       "      <td>...</td>\n",
       "      <td>...</td>\n",
       "      <td>...</td>\n",
       "      <td>...</td>\n",
       "      <td>...</td>\n",
       "      <td>...</td>\n",
       "      <td>...</td>\n",
       "      <td>...</td>\n",
       "      <td>...</td>\n",
       "      <td>...</td>\n",
       "      <td>...</td>\n",
       "      <td>...</td>\n",
       "      <td>...</td>\n",
       "      <td>...</td>\n",
       "      <td>...</td>\n",
       "    </tr>\n",
       "    <tr>\n",
       "      <th>513</th>\n",
       "      <td>76.0</td>\n",
       "      <td>29520.0</td>\n",
       "      <td>27030.0</td>\n",
       "      <td>2490.0</td>\n",
       "      <td>4320.0</td>\n",
       "      <td>14820.0</td>\n",
       "      <td>7890.0</td>\n",
       "      <td>42.0</td>\n",
       "      <td>92.0</td>\n",
       "      <td>180.0</td>\n",
       "      <td>14340.0</td>\n",
       "      <td>53.40</td>\n",
       "      <td>46.0</td>\n",
       "      <td>101.0</td>\n",
       "      <td>-0.27</td>\n",
       "      <td>15.000</td>\n",
       "    </tr>\n",
       "    <tr>\n",
       "      <th>514</th>\n",
       "      <td>69.0</td>\n",
       "      <td>25500.0</td>\n",
       "      <td>22260.0</td>\n",
       "      <td>3240.0</td>\n",
       "      <td>3030.0</td>\n",
       "      <td>9540.0</td>\n",
       "      <td>9690.0</td>\n",
       "      <td>34.0</td>\n",
       "      <td>87.0</td>\n",
       "      <td>600.0</td>\n",
       "      <td>12990.0</td>\n",
       "      <td>52.42</td>\n",
       "      <td>46.0</td>\n",
       "      <td>90.0</td>\n",
       "      <td>-0.08</td>\n",
       "      <td>14.625</td>\n",
       "    </tr>\n",
       "    <tr>\n",
       "      <th>515</th>\n",
       "      <td>63.0</td>\n",
       "      <td>23220.0</td>\n",
       "      <td>21150.0</td>\n",
       "      <td>2070.0</td>\n",
       "      <td>3150.0</td>\n",
       "      <td>7050.0</td>\n",
       "      <td>10950.0</td>\n",
       "      <td>37.0</td>\n",
       "      <td>91.0</td>\n",
       "      <td>270.0</td>\n",
       "      <td>11160.0</td>\n",
       "      <td>53.75</td>\n",
       "      <td>46.0</td>\n",
       "      <td>71.0</td>\n",
       "      <td>-0.30</td>\n",
       "      <td>14.000</td>\n",
       "    </tr>\n",
       "    <tr>\n",
       "      <th>516</th>\n",
       "      <td>74.0</td>\n",
       "      <td>28500.0</td>\n",
       "      <td>24360.0</td>\n",
       "      <td>4140.0</td>\n",
       "      <td>4950.0</td>\n",
       "      <td>7530.0</td>\n",
       "      <td>11880.0</td>\n",
       "      <td>30.0</td>\n",
       "      <td>85.0</td>\n",
       "      <td>1080.0</td>\n",
       "      <td>13890.0</td>\n",
       "      <td>55.45</td>\n",
       "      <td>46.0</td>\n",
       "      <td>91.0</td>\n",
       "      <td>0.07</td>\n",
       "      <td>13.875</td>\n",
       "    </tr>\n",
       "    <tr>\n",
       "      <th>517</th>\n",
       "      <td>75.0</td>\n",
       "      <td>27480.0</td>\n",
       "      <td>25560.0</td>\n",
       "      <td>1920.0</td>\n",
       "      <td>5580.0</td>\n",
       "      <td>9060.0</td>\n",
       "      <td>10920.0</td>\n",
       "      <td>31.0</td>\n",
       "      <td>93.0</td>\n",
       "      <td>210.0</td>\n",
       "      <td>13590.0</td>\n",
       "      <td>54.71</td>\n",
       "      <td>46.0</td>\n",
       "      <td>83.0</td>\n",
       "      <td>-0.04</td>\n",
       "      <td>14.125</td>\n",
       "    </tr>\n",
       "  </tbody>\n",
       "</table>\n",
       "<p>518 rows × 16 columns</p>\n",
       "</div>"
      ],
      "text/plain": [
       "     sleep_score  total_bedtime  total_sleep_time  awake_time  rem_sleep_time  \\\n",
       "0           75.0        30120.0           26700.0      3420.0          6420.0   \n",
       "1           77.0        29820.0           27300.0      2520.0          5490.0   \n",
       "2           61.0        26340.0           21030.0      5310.0          4050.0   \n",
       "3           75.0        31380.0           27060.0      4320.0          6990.0   \n",
       "4           75.0        26580.0           24120.0      2460.0          5190.0   \n",
       "..           ...            ...               ...         ...             ...   \n",
       "513         76.0        29520.0           27030.0      2490.0          4320.0   \n",
       "514         69.0        25500.0           22260.0      3240.0          3030.0   \n",
       "515         63.0        23220.0           21150.0      2070.0          3150.0   \n",
       "516         74.0        28500.0           24360.0      4140.0          4950.0   \n",
       "517         75.0        27480.0           25560.0      1920.0          5580.0   \n",
       "\n",
       "     light_sleep_time  deep_sleep_time  restless_sleep  sleep_efficiency  \\\n",
       "0             13320.0           6960.0            31.0              89.0   \n",
       "1             12600.0           9210.0            29.0              92.0   \n",
       "2             11130.0           5850.0            37.0              80.0   \n",
       "3             10680.0           9390.0            25.0              86.0   \n",
       "4             11700.0           7230.0            22.0              91.0   \n",
       "..                ...              ...             ...               ...   \n",
       "513           14820.0           7890.0            42.0              92.0   \n",
       "514            9540.0           9690.0            34.0              87.0   \n",
       "515            7050.0          10950.0            37.0              91.0   \n",
       "516            7530.0          11880.0            30.0              85.0   \n",
       "517            9060.0          10920.0            31.0              93.0   \n",
       "\n",
       "     sleep_latency  sleep_timing  average_resting_heart_rate  \\\n",
       "0            270.0       15060.0                       59.52   \n",
       "1            450.0       14820.0                       56.65   \n",
       "2            720.0       12090.0                       65.18   \n",
       "3            240.0       15390.0                       57.95   \n",
       "4            510.0       13050.0                       59.12   \n",
       "..             ...           ...                         ...   \n",
       "513          180.0       14340.0                       53.40   \n",
       "514          600.0       12990.0                       52.42   \n",
       "515          270.0       11160.0                       53.75   \n",
       "516         1080.0       13890.0                       55.45   \n",
       "517          210.0       13590.0                       54.71   \n",
       "\n",
       "     lowest_resting_heart_rate  average_hrv  temperature_deviation_(°c)  \\\n",
       "0                         54.0         61.0                       -0.31   \n",
       "1                         52.0         64.0                       -0.11   \n",
       "2                         58.0         59.0                        0.07   \n",
       "3                         52.0         52.0                       -0.14   \n",
       "4                         54.0         53.0                       -0.28   \n",
       "..                         ...          ...                         ...   \n",
       "513                       46.0        101.0                       -0.27   \n",
       "514                       46.0         90.0                       -0.08   \n",
       "515                       46.0         71.0                       -0.30   \n",
       "516                       46.0         91.0                        0.07   \n",
       "517                       46.0         83.0                       -0.04   \n",
       "\n",
       "     respiratory_rate  \n",
       "0              14.000  \n",
       "1              14.000  \n",
       "2              14.875  \n",
       "3              13.875  \n",
       "4              14.500  \n",
       "..                ...  \n",
       "513            15.000  \n",
       "514            14.625  \n",
       "515            14.000  \n",
       "516            13.875  \n",
       "517            14.125  \n",
       "\n",
       "[518 rows x 16 columns]"
      ]
     },
     "execution_count": 28,
     "metadata": {},
     "output_type": "execute_result"
    }
   ],
   "source": [
    "df_s[['sleep_score','total_bedtime', 'total_sleep_time', 'awake_time',\n",
    "                       'rem_sleep_time', 'light_sleep_time',\n",
    "                       'deep_sleep_time', 'restless_sleep', 'sleep_efficiency',\n",
    "                       'sleep_latency', 'sleep_timing',\n",
    "                       'average_resting_heart_rate', \n",
    "                       'lowest_resting_heart_rate', 'average_hrv',\n",
    "                       'temperature_deviation_(°c)', 'respiratory_rate']].reset_index(drop=True)"
   ]
  },
  {
   "cell_type": "markdown",
   "metadata": {},
   "source": [
    "## Train/ CV/ Test Split "
   ]
  },
  {
   "cell_type": "code",
   "execution_count": 29,
   "metadata": {
    "ExecuteTime": {
     "end_time": "2020-10-01T02:59:09.130729Z",
     "start_time": "2020-10-01T02:59:09.113170Z"
    }
   },
   "outputs": [],
   "source": [
    "# We have split 80/20 between train/ cv and test\n",
    "X_train_cv, X_test, y_train_cv, y_test = train_test_split(X, y, test_size=.20,\n",
    "                                                          random_state=1)\n",
    "# We will split our train/cv 60/20 into train and cv now.\n",
    "X_train, X_cv, y_train, y_cv = train_test_split(X_train_cv, y_train_cv,\n",
    "                                                test_size=.25,\n",
    "                                                random_state=1)"
   ]
  },
  {
   "cell_type": "markdown",
   "metadata": {},
   "source": [
    "## Linear Regression (No Regularization)"
   ]
  },
  {
   "cell_type": "markdown",
   "metadata": {},
   "source": [
    "### Tuning polynomial features "
   ]
  },
  {
   "cell_type": "code",
   "execution_count": 30,
   "metadata": {
    "ExecuteTime": {
     "end_time": "2020-10-01T03:03:36.092758Z",
     "start_time": "2020-10-01T02:59:09.142622Z"
    }
   },
   "outputs": [],
   "source": [
    "poly_pipe = Pipeline([\n",
    "    ('scaler', MinMaxScaler()),\n",
    "    ('poly', PolynomialFeatures()),\n",
    "    ('ols', LinearRegression())    \n",
    "])\n",
    "mses = []\n",
    "int_top_degree = 5 + 1\n",
    "degree_range = range(1, int_top_degree)\n",
    "\n",
    "for degree in degree_range:\n",
    "    poly_pipe.set_params(poly__degree=degree)\n",
    "    k_folds = KFold(n_splits=5, shuffle=True, random_state=1)\n",
    "    scores = -cross_val_score(poly_pipe, X_train_cv, y_train_cv, cv=k_folds, scoring='neg_mean_squared_error')\n",
    "    mses.append(np.mean(scores))"
   ]
  },
  {
   "cell_type": "code",
   "execution_count": 31,
   "metadata": {
    "ExecuteTime": {
     "end_time": "2020-10-01T03:03:37.304799Z",
     "start_time": "2020-10-01T03:03:36.378463Z"
    }
   },
   "outputs": [
    {
     "data": {
      "image/png": "[encoded data removed]",
      "text/plain": [
       "<Figure size 1080x720 with 1 Axes>"
      ]
     },
     "metadata": {
      "needs_background": "light"
     },
     "output_type": "display_data"
    }
   ],
   "source": [
    "plt.subplots(figsize=(15, 10))\n",
    "\n",
    "plt.plot(degree_range, mses, label='K-fold error')\n",
    "plt.title('MSE as Poly Degree Increases')\n",
    "plt.xlabel('Degree')\n",
    "plt.xticks(range(1, int_top_degree, 1))\n",
    "plt.ylabel('MSE')\n",
    "plt.legend();"
   ]
  },
  {
   "cell_type": "markdown",
   "metadata": {},
   "source": [
    "1st degree looks the best"
   ]
  },
  {
   "cell_type": "code",
   "execution_count": 32,
   "metadata": {
    "ExecuteTime": {
     "end_time": "2020-10-01T03:03:37.453713Z",
     "start_time": "2020-10-01T03:03:37.318598Z"
    }
   },
   "outputs": [
    {
     "name": "stdout",
     "output_type": "stream",
     "text": [
      "Train error: 7.862166235523839\n",
      "CV error: 9.015730944677042\n",
      "R^2 train 0.8256172402158666\n",
      "R^2 CV 0.806547258614259\n"
     ]
    }
   ],
   "source": [
    "poly_pipe_1 = Pipeline([\n",
    "    ('scaler', MinMaxScaler()),\n",
    "    ('poly', PolynomialFeatures(1)),\n",
    "    ('lr', LinearRegression())    \n",
    "])\n",
    "poly_pipe_1.fit(X_train, y_train)\n",
    "y_train_pred = poly_pipe_1.predict(X_train)\n",
    "y_cv_pred = poly_pipe_1.predict(X_cv)\n",
    "print('Train error:', mean_squared_error(y_train_pred, y_train))\n",
    "print('CV error:', mean_squared_error(y_cv_pred, y_cv))\n",
    "print('R^2 train', r2_score(y_train_pred, y_train))\n",
    "print('R^2 CV', r2_score(y_cv_pred, y_cv))"
   ]
  },
  {
   "cell_type": "markdown",
   "metadata": {},
   "source": [
    "This is not bad, however the train error is a bit higher, let's try fitting a higher degree and seeing if that helps"
   ]
  },
  {
   "cell_type": "code",
   "execution_count": 33,
   "metadata": {
    "ExecuteTime": {
     "end_time": "2020-10-01T03:03:37.834085Z",
     "start_time": "2020-10-01T03:03:37.461886Z"
    }
   },
   "outputs": [
    {
     "name": "stdout",
     "output_type": "stream",
     "text": [
      "Train error: 4.608198785205041\n",
      "cv error: 10.571545436405218\n",
      "R^2 train 0.9046367166880102\n",
      "R^2 cv 0.7826129572509906\n"
     ]
    }
   ],
   "source": [
    "poly_pipe_2 = Pipeline([\n",
    "    ('scaler', MinMaxScaler()),\n",
    "    ('poly', PolynomialFeatures(2)),\n",
    "    ('lr', LinearRegression())    \n",
    "])\n",
    "poly_pipe_2.fit(X_train, y_train)\n",
    "y_train_pred = poly_pipe_2.predict(X_train)\n",
    "y_cv_pred = poly_pipe_2.predict(X_cv)\n",
    "print('Train error:', mean_squared_error(y_train_pred, y_train))\n",
    "print('cv error:', mean_squared_error(y_cv_pred, y_cv))\n",
    "print('R^2 train', r2_score(y_train_pred, y_train))\n",
    "print('R^2 cv', r2_score(y_cv_pred, y_cv))"
   ]
  },
  {
   "cell_type": "markdown",
   "metadata": {},
   "source": [
    "We see a nice bump in our train but now we are overfitting so regularization should help"
   ]
  },
  {
   "cell_type": "markdown",
   "metadata": {},
   "source": [
    "These are our test errors and residuals"
   ]
  },
  {
   "cell_type": "markdown",
   "metadata": {},
   "source": [
    "### Model Performance "
   ]
  },
  {
   "cell_type": "code",
   "execution_count": 34,
   "metadata": {
    "ExecuteTime": {
     "end_time": "2020-10-01T03:03:37.960250Z",
     "start_time": "2020-10-01T03:03:37.879907Z"
    }
   },
   "outputs": [
    {
     "name": "stdout",
     "output_type": "stream",
     "text": [
      "Test error: 7.819542503414246\n",
      "R^2 Test 0.8331123193886565\n"
     ]
    }
   ],
   "source": [
    "y_test_pred = poly_pipe_1.predict(X_test)\n",
    "print('Test error:', mean_squared_error(y_test_pred, y_test))\n",
    "print('R^2 Test', r2_score(y_test_pred, y_test))"
   ]
  },
  {
   "cell_type": "code",
   "execution_count": 35,
   "metadata": {
    "ExecuteTime": {
     "end_time": "2020-10-01T03:03:39.100533Z",
     "start_time": "2020-10-01T03:03:37.982605Z"
    }
   },
   "outputs": [
    {
     "data": {
      "image/png": "[encoded data removed]",
      "text/plain": [
       "<Figure size 432x288 with 1 Axes>"
      ]
     },
     "metadata": {
      "needs_background": "light"
     },
     "output_type": "display_data"
    }
   ],
   "source": [
    "list_resid = y_test - y_test_pred\n",
    "plt.scatter(y_test, list_resid)\n",
    "plt.title('Residual Error Plot for 1st Degree Polynomial')\n",
    "plt.xlabel('Sleep Score')\n",
    "plt.ylabel('Residual Error');"
   ]
  },
  {
   "cell_type": "code",
   "execution_count": 36,
   "metadata": {
    "ExecuteTime": {
     "end_time": "2020-10-01T03:03:39.231550Z",
     "start_time": "2020-10-01T03:03:39.194676Z"
    }
   },
   "outputs": [
    {
     "name": "stdout",
     "output_type": "stream",
     "text": [
      "Test error: 9.293003380871736\n",
      "R^2 Test 0.8128438580404866\n"
     ]
    }
   ],
   "source": [
    "y_test_pred = poly_pipe_2.predict(X_test)\n",
    "print('Test error:', mean_squared_error(y_test_pred, y_test))\n",
    "print('R^2 Test', r2_score(y_test_pred, y_test))"
   ]
  },
  {
   "cell_type": "code",
   "execution_count": 37,
   "metadata": {
    "ExecuteTime": {
     "end_time": "2020-10-01T03:03:40.030004Z",
     "start_time": "2020-10-01T03:03:39.295770Z"
    }
   },
   "outputs": [
    {
     "data": {
      "image/png": "[encoded data removed]",
      "text/plain": [
       "<Figure size 432x288 with 1 Axes>"
      ]
     },
     "metadata": {
      "needs_background": "light"
     },
     "output_type": "display_data"
    }
   ],
   "source": [
    "list_resid = y_test - y_test_pred\n",
    "plt.scatter(y_test, list_resid)\n",
    "plt.title('Residual Error Plot for 2nd Degree Polynomial')\n",
    "plt.xlabel('Sleep Score')\n",
    "plt.ylabel('Residual Error');"
   ]
  },
  {
   "cell_type": "markdown",
   "metadata": {},
   "source": [
    "### Feature Weights "
   ]
  },
  {
   "cell_type": "code",
   "execution_count": 38,
   "metadata": {
    "ExecuteTime": {
     "end_time": "2020-10-01T03:03:40.080126Z",
     "start_time": "2020-10-01T03:03:40.056558Z"
    }
   },
   "outputs": [],
   "source": [
    "df_coef_poly1 = pd.DataFrame(\n",
    "    poly_pipe_1.named_steps['lr'].coef_[0], \n",
    "    index=poly_pipe_1.named_steps['poly'].get_feature_names(),\n",
    "    columns=['coefficients'])\n",
    "df_coef_poly1['abs_value'] = np.abs(df_coef_poly1['coefficients'])\n",
    "df_coef_poly1.sort_values(by='abs_value', ascending=False, inplace=True)"
   ]
  },
  {
   "cell_type": "code",
   "execution_count": 39,
   "metadata": {
    "ExecuteTime": {
     "end_time": "2020-10-01T03:03:40.126994Z",
     "start_time": "2020-10-01T03:03:40.096097Z"
    }
   },
   "outputs": [],
   "source": [
    "df_coef_poly2 = pd.DataFrame(\n",
    "    poly_pipe_2.named_steps['lr'].coef_[0], \n",
    "    index=poly_pipe_2.named_steps['poly'].get_feature_names(),\n",
    "    columns=['coefficients'])\n",
    "df_coef_poly2['abs_value'] = np.abs(df_coef_poly2['coefficients'])\n",
    "df_coef_poly2.sort_values(by='abs_value', ascending=False, inplace=True)"
   ]
  },
  {
   "cell_type": "markdown",
   "metadata": {},
   "source": [
    "## Ridge Regularization "
   ]
  },
  {
   "cell_type": "markdown",
   "metadata": {},
   "source": [
    "### Tuning alpha regularization parameter "
   ]
  },
  {
   "cell_type": "code",
   "execution_count": 40,
   "metadata": {
    "ExecuteTime": {
     "end_time": "2020-10-01T03:03:41.600079Z",
     "start_time": "2020-10-01T03:03:40.206344Z"
    }
   },
   "outputs": [],
   "source": [
    "poly_pipe_ridge_tune = Pipeline([\n",
    "    ('scaler', MinMaxScaler()),\n",
    "    ('poly', PolynomialFeatures(2)),\n",
    "    ('ridge', Ridge(alpha=0.01))    \n",
    "])\n",
    "mses_ridge_tune = []\n",
    "list_alphas = [0.0001, 0.001, 0.01, 0.1, 1, 10, 100, 1000, 10000]\n",
    "for i, alpha in enumerate(list_alphas):\n",
    "    poly_pipe_ridge_tune.set_params(ridge__alpha=alpha)\n",
    "    poly_pipe_ridge_tune.fit(X_train, y_train)\n",
    "    mses_ridge_tune.append(mean_squared_error(poly_pipe_ridge_tune.predict(X_cv), y_cv))"
   ]
  },
  {
   "cell_type": "code",
   "execution_count": 41,
   "metadata": {
    "ExecuteTime": {
     "end_time": "2020-10-01T03:03:42.257882Z",
     "start_time": "2020-10-01T03:03:41.613558Z"
    }
   },
   "outputs": [
    {
     "data": {
      "image/png": "[encoded data removed]",
      "text/plain": [
       "<Figure size 1080x360 with 1 Axes>"
      ]
     },
     "metadata": {
      "needs_background": "light"
     },
     "output_type": "display_data"
    }
   ],
   "source": [
    "fig, ax = plt.subplots(figsize=(15, 5))\n",
    "\n",
    "labels = ['log({})'.format(alpha) for alpha in list_alphas]\n",
    "ax.plot(np.log(list_alphas), mses_ridge_tune, label='Mean Squared Error')\n",
    "ax.set_title('MSE as Lambda Increases')\n",
    "ax.set_xlabel('Alpha (log)')\n",
    "ax.set_xticks(np.log(list_alphas))\n",
    "ax.set_xticklabels(labels)\n",
    "ax.set_ylabel('MSE')\n",
    "plt.legend();"
   ]
  },
  {
   "cell_type": "markdown",
   "metadata": {},
   "source": [
    "alpha of 0.1 looks pretty good"
   ]
  },
  {
   "cell_type": "markdown",
   "metadata": {},
   "source": [
    "### Model Performance "
   ]
  },
  {
   "cell_type": "code",
   "execution_count": 42,
   "metadata": {
    "ExecuteTime": {
     "end_time": "2020-10-01T03:03:42.435351Z",
     "start_time": "2020-10-01T03:03:42.267052Z"
    }
   },
   "outputs": [
    {
     "name": "stdout",
     "output_type": "stream",
     "text": [
      "Train error: 5.368786698353211\n",
      "CV error: 8.760594252533833\n",
      "R^2 train 0.8852363684142273\n",
      "R^2 CV 0.8186162000594266\n"
     ]
    }
   ],
   "source": [
    "poly_pipe_ridge = Pipeline([\n",
    "    ('scaler', MinMaxScaler()),\n",
    "    ('poly', PolynomialFeatures(2)),\n",
    "    ('ridge', Ridge(alpha=0.1))    \n",
    "])\n",
    "poly_pipe_ridge.fit(X_train, y_train)\n",
    "y_train_pred = poly_pipe_ridge.predict(X_train)\n",
    "y_cv_pred = poly_pipe_ridge.predict(X_cv)\n",
    "y_test_pred = poly_pipe_ridge.predict(X_test)\n",
    "print('Train error:', mean_squared_error(y_train_pred, y_train))\n",
    "print('CV error:', mean_squared_error(y_cv_pred, y_cv))\n",
    "print('R^2 train', r2_score(y_train_pred, y_train))\n",
    "print('R^2 CV', r2_score(y_cv_pred, y_cv))"
   ]
  },
  {
   "cell_type": "code",
   "execution_count": 43,
   "metadata": {
    "ExecuteTime": {
     "end_time": "2020-10-01T03:03:42.489755Z",
     "start_time": "2020-10-01T03:03:42.450088Z"
    }
   },
   "outputs": [
    {
     "name": "stdout",
     "output_type": "stream",
     "text": [
      "Test error: 7.016493398932413\n",
      "R^2 Test 0.8538463783357451\n"
     ]
    }
   ],
   "source": [
    "y_test_pred = poly_pipe_ridge.predict(X_test)\n",
    "print('Test error:', mean_squared_error(y_test_pred, y_test))\n",
    "print('R^2 Test', r2_score(y_test_pred, y_test))"
   ]
  },
  {
   "cell_type": "code",
   "execution_count": 44,
   "metadata": {
    "ExecuteTime": {
     "end_time": "2020-10-01T03:03:43.230258Z",
     "start_time": "2020-10-01T03:03:42.498135Z"
    }
   },
   "outputs": [
    {
     "data": {
      "image/png": "[encoded data removed]",
      "text/plain": [
       "<Figure size 432x288 with 1 Axes>"
      ]
     },
     "metadata": {
      "needs_background": "light"
     },
     "output_type": "display_data"
    }
   ],
   "source": [
    "arr_resid = np.ravel(y_test) - np.ravel(y_test_pred)\n",
    "plt.scatter(y_test, arr_resid)\n",
    "plt.title('Residual Error Plot for Ridge')\n",
    "plt.xlabel('Sleep Score')\n",
    "plt.ylabel('Residual Error');"
   ]
  },
  {
   "cell_type": "code",
   "execution_count": 45,
   "metadata": {
    "ExecuteTime": {
     "end_time": "2020-10-01T03:03:43.272325Z",
     "start_time": "2020-10-01T03:03:43.254236Z"
    }
   },
   "outputs": [],
   "source": [
    "df_coef_ridge = pd.DataFrame(\n",
    "    poly_pipe_ridge.named_steps['ridge'].coef_[0], \n",
    "    index=poly_pipe_ridge.named_steps['poly'].get_feature_names(),\n",
    "    columns=['coefficients'])\n",
    "df_coef_ridge['abs_value'] = np.abs(df_coef_ridge['coefficients'])\n",
    "df_coef_ridge.sort_values(by='abs_value', ascending=False, inplace=True)"
   ]
  },
  {
   "cell_type": "markdown",
   "metadata": {},
   "source": [
    "## Lasso Regularization "
   ]
  },
  {
   "cell_type": "markdown",
   "metadata": {},
   "source": [
    "### Tuning alpha regularization parameter "
   ]
  },
  {
   "cell_type": "code",
   "execution_count": 46,
   "metadata": {
    "ExecuteTime": {
     "end_time": "2020-10-01T03:03:44.484246Z",
     "start_time": "2020-10-01T03:03:43.280814Z"
    }
   },
   "outputs": [],
   "source": [
    "poly_pipe_lasso_tune = Pipeline([\n",
    "    ('scaler', MinMaxScaler()),\n",
    "    ('poly', PolynomialFeatures(2)),\n",
    "    ('lasso', Lasso(alpha=0.01))    \n",
    "])\n",
    "mses_lasso_tune = []\n",
    "list_alphas = [0.0001, 0.001, 0.01, 0.1, 1, 10, 100, 1000, 10000]\n",
    "for i, alpha in enumerate(list_alphas):\n",
    "    poly_pipe_lasso_tune.set_params(lasso__alpha=alpha)\n",
    "    poly_pipe_lasso_tune.fit(X_train, y_train)\n",
    "    mses_lasso_tune.append(mean_squared_error(poly_pipe_lasso_tune.predict(X_cv), y_cv))"
   ]
  },
  {
   "cell_type": "code",
   "execution_count": 47,
   "metadata": {
    "ExecuteTime": {
     "end_time": "2020-10-01T03:03:45.346934Z",
     "start_time": "2020-10-01T03:03:44.509693Z"
    }
   },
   "outputs": [
    {
     "data": {
      "image/png": "[encoded data removed]",
      "text/plain": [
       "<Figure size 1080x360 with 1 Axes>"
      ]
     },
     "metadata": {
      "needs_background": "light"
     },
     "output_type": "display_data"
    }
   ],
   "source": [
    "fig, ax = plt.subplots(figsize=(15, 5))\n",
    "labels = ['log({})'.format(alpha) for alpha in list_alphas]\n",
    "ax.plot(np.log(list_alphas), mses_lasso_tune, label='Mean Squared Error')\n",
    "ax.set_title('MSE as Alpha Increases')\n",
    "ax.set_xlabel('Alpha (log)')\n",
    "ax.set_xticks(np.log(list_alphas))\n",
    "ax.set_xticklabels(labels)\n",
    "ax.set_ylabel('MSE')\n",
    "plt.legend();"
   ]
  },
  {
   "cell_type": "markdown",
   "metadata": {},
   "source": [
    "alpha at 0.01 looks pretty good "
   ]
  },
  {
   "cell_type": "markdown",
   "metadata": {},
   "source": [
    "### Model Performance "
   ]
  },
  {
   "cell_type": "code",
   "execution_count": 48,
   "metadata": {
    "ExecuteTime": {
     "end_time": "2020-10-01T03:03:45.944348Z",
     "start_time": "2020-10-01T03:03:45.357457Z"
    }
   },
   "outputs": [
    {
     "name": "stdout",
     "output_type": "stream",
     "text": [
      "Train error: 6.461727239067043\n",
      "CV error: 8.245371966729595\n",
      "R^2 train 0.8545747238357478\n",
      "R^2 CV 0.820832208399982\n"
     ]
    }
   ],
   "source": [
    "poly_pipe_lasso = Pipeline([\n",
    "    ('scaler', MinMaxScaler()),\n",
    "    ('poly', PolynomialFeatures(2)),\n",
    "    ('lasso', Lasso(alpha=0.01))    \n",
    "])\n",
    "poly_pipe_lasso.fit(X_train, y_train)\n",
    "y_train_pred = poly_pipe_lasso.predict(X_train)\n",
    "y_cv_pred = poly_pipe_lasso.predict(X_cv)\n",
    "\n",
    "print('Train error:', mean_squared_error(y_train_pred, y_train))\n",
    "print('CV error:', mean_squared_error(y_cv_pred, y_cv))\n",
    "print('R^2 train', r2_score(y_train_pred, y_train))\n",
    "print('R^2 CV', r2_score(y_cv_pred, y_cv))"
   ]
  },
  {
   "cell_type": "code",
   "execution_count": 49,
   "metadata": {
    "ExecuteTime": {
     "end_time": "2020-10-01T03:03:45.986361Z",
     "start_time": "2020-10-01T03:03:45.953760Z"
    }
   },
   "outputs": [
    {
     "name": "stdout",
     "output_type": "stream",
     "text": [
      "Test error: 6.909770372289929\n",
      "R^2 Test 0.8459522680657822\n"
     ]
    }
   ],
   "source": [
    "y_test_pred = poly_pipe_lasso.predict(X_test)\n",
    "print('Test error:', mean_squared_error(y_test_pred, y_test))\n",
    "print('R^2 Test', r2_score(y_test_pred, y_test))"
   ]
  },
  {
   "cell_type": "code",
   "execution_count": 50,
   "metadata": {
    "ExecuteTime": {
     "end_time": "2020-10-01T03:03:46.544643Z",
     "start_time": "2020-10-01T03:03:45.994392Z"
    }
   },
   "outputs": [
    {
     "data": {
      "image/png": "[encoded data removed]",
      "text/plain": [
       "<Figure size 432x288 with 1 Axes>"
      ]
     },
     "metadata": {
      "needs_background": "light"
     },
     "output_type": "display_data"
    }
   ],
   "source": [
    "arr_resid = np.ravel(y_test) - y_test_pred\n",
    "plt.scatter(y_test, arr_resid)\n",
    "plt.title('Residual Error Plot for Lasso')\n",
    "plt.xlabel('Sleep Score')\n",
    "plt.ylabel('Residual Error');"
   ]
  },
  {
   "cell_type": "markdown",
   "metadata": {},
   "source": [
    "### Feature Weights "
   ]
  },
  {
   "cell_type": "code",
   "execution_count": 51,
   "metadata": {
    "ExecuteTime": {
     "end_time": "2020-10-01T03:03:46.576588Z",
     "start_time": "2020-10-01T03:03:46.556519Z"
    }
   },
   "outputs": [],
   "source": [
    "df_coef_lasso = pd.DataFrame(\n",
    "    poly_pipe_lasso.named_steps['lasso'].coef_, \n",
    "    index=poly_pipe_lasso.named_steps['poly'].get_feature_names(),\n",
    "    columns=['coefficients'])\n",
    "df_coef_lasso['abs_value'] = np.abs(df_coef_lasso['coefficients'])\n",
    "df_coef_lasso.sort_values(by='abs_value', ascending=False, inplace=True)"
   ]
  },
  {
   "cell_type": "markdown",
   "metadata": {},
   "source": [
    "# Results"
   ]
  },
  {
   "cell_type": "markdown",
   "metadata": {},
   "source": [
    "In terms of performance, here is how all of our models did:\n",
    "\n",
    "| Name                         | Test Error (MSE) | R^2  |\n",
    "|------------------------------|------------|------|\n",
    "| Linear Regression (1st poly) | 7.82       | .833 |\n",
    "| Linear Regression (2nd poly) | 9.29       | .812 |\n",
    "| Ridge Regression (2nd poly)  | 7.02       | .853 |\n",
    "| Lasso Regression (2nd poly)  | 6.91       | .846 |"
   ]
  },
  {
   "cell_type": "markdown",
   "metadata": {},
   "source": [
    "## Key for column names "
   ]
  },
  {
   "cell_type": "code",
   "execution_count": 52,
   "metadata": {
    "ExecuteTime": {
     "end_time": "2020-10-01T03:03:46.613609Z",
     "start_time": "2020-10-01T03:03:46.590035Z"
    }
   },
   "outputs": [
    {
     "data": {
      "text/html": [
       "<div>\n",
       "<style scoped>\n",
       "    .dataframe tbody tr th:only-of-type {\n",
       "        vertical-align: middle;\n",
       "    }\n",
       "\n",
       "    .dataframe tbody tr th {\n",
       "        vertical-align: top;\n",
       "    }\n",
       "\n",
       "    .dataframe thead th {\n",
       "        text-align: right;\n",
       "    }\n",
       "</style>\n",
       "<table border=\"1\" class=\"dataframe\">\n",
       "  <thead>\n",
       "    <tr style=\"text-align: right;\">\n",
       "      <th></th>\n",
       "      <th>Poly Name</th>\n",
       "    </tr>\n",
       "  </thead>\n",
       "  <tbody>\n",
       "    <tr>\n",
       "      <th>total_bedtime</th>\n",
       "      <td>x0</td>\n",
       "    </tr>\n",
       "    <tr>\n",
       "      <th>total_sleep_time</th>\n",
       "      <td>x1</td>\n",
       "    </tr>\n",
       "    <tr>\n",
       "      <th>awake_time</th>\n",
       "      <td>x2</td>\n",
       "    </tr>\n",
       "    <tr>\n",
       "      <th>rem_sleep_time</th>\n",
       "      <td>x3</td>\n",
       "    </tr>\n",
       "    <tr>\n",
       "      <th>light_sleep_time</th>\n",
       "      <td>x4</td>\n",
       "    </tr>\n",
       "    <tr>\n",
       "      <th>deep_sleep_time</th>\n",
       "      <td>x5</td>\n",
       "    </tr>\n",
       "    <tr>\n",
       "      <th>restless_sleep</th>\n",
       "      <td>x6</td>\n",
       "    </tr>\n",
       "    <tr>\n",
       "      <th>sleep_efficiency</th>\n",
       "      <td>x7</td>\n",
       "    </tr>\n",
       "    <tr>\n",
       "      <th>sleep_latency</th>\n",
       "      <td>x8</td>\n",
       "    </tr>\n",
       "    <tr>\n",
       "      <th>sleep_timing</th>\n",
       "      <td>x9</td>\n",
       "    </tr>\n",
       "    <tr>\n",
       "      <th>average_resting_heart_rate</th>\n",
       "      <td>x10</td>\n",
       "    </tr>\n",
       "    <tr>\n",
       "      <th>lowest_resting_heart_rate</th>\n",
       "      <td>x11</td>\n",
       "    </tr>\n",
       "    <tr>\n",
       "      <th>average_hrv</th>\n",
       "      <td>x12</td>\n",
       "    </tr>\n",
       "    <tr>\n",
       "      <th>temperature_deviation_(°c)</th>\n",
       "      <td>x13</td>\n",
       "    </tr>\n",
       "    <tr>\n",
       "      <th>respiratory_rate</th>\n",
       "      <td>x14</td>\n",
       "    </tr>\n",
       "  </tbody>\n",
       "</table>\n",
       "</div>"
      ],
      "text/plain": [
       "                           Poly Name\n",
       "total_bedtime                     x0\n",
       "total_sleep_time                  x1\n",
       "awake_time                        x2\n",
       "rem_sleep_time                    x3\n",
       "light_sleep_time                  x4\n",
       "deep_sleep_time                   x5\n",
       "restless_sleep                    x6\n",
       "sleep_efficiency                  x7\n",
       "sleep_latency                     x8\n",
       "sleep_timing                      x9\n",
       "average_resting_heart_rate       x10\n",
       "lowest_resting_heart_rate        x11\n",
       "average_hrv                      x12\n",
       "temperature_deviation_(°c)       x13\n",
       "respiratory_rate                 x14"
      ]
     },
     "execution_count": 52,
     "metadata": {},
     "output_type": "execute_result"
    }
   ],
   "source": [
    "df_col_names"
   ]
  },
  {
   "cell_type": "markdown",
   "metadata": {},
   "source": [
    "## Linear Regression Feature Weights "
   ]
  },
  {
   "cell_type": "code",
   "execution_count": 53,
   "metadata": {
    "ExecuteTime": {
     "end_time": "2020-10-01T03:03:46.722524Z",
     "start_time": "2020-10-01T03:03:46.684593Z"
    }
   },
   "outputs": [
    {
     "data": {
      "text/html": [
       "<div>\n",
       "<style scoped>\n",
       "    .dataframe tbody tr th:only-of-type {\n",
       "        vertical-align: middle;\n",
       "    }\n",
       "\n",
       "    .dataframe tbody tr th {\n",
       "        vertical-align: top;\n",
       "    }\n",
       "\n",
       "    .dataframe thead th {\n",
       "        text-align: right;\n",
       "    }\n",
       "</style>\n",
       "<table border=\"1\" class=\"dataframe\">\n",
       "  <thead>\n",
       "    <tr style=\"text-align: right;\">\n",
       "      <th></th>\n",
       "      <th>coefficients</th>\n",
       "      <th>abs_value</th>\n",
       "    </tr>\n",
       "  </thead>\n",
       "  <tbody>\n",
       "    <tr>\n",
       "      <th>x1</th>\n",
       "      <td>5.162403e+12</td>\n",
       "      <td>5.162403e+12</td>\n",
       "    </tr>\n",
       "    <tr>\n",
       "      <th>x4</th>\n",
       "      <td>-2.862000e+12</td>\n",
       "      <td>2.862000e+12</td>\n",
       "    </tr>\n",
       "    <tr>\n",
       "      <th>x5</th>\n",
       "      <td>-2.033343e+12</td>\n",
       "      <td>2.033343e+12</td>\n",
       "    </tr>\n",
       "    <tr>\n",
       "      <th>x0</th>\n",
       "      <td>-1.671559e+12</td>\n",
       "      <td>1.671559e+12</td>\n",
       "    </tr>\n",
       "    <tr>\n",
       "      <th>x3</th>\n",
       "      <td>-1.601606e+12</td>\n",
       "      <td>1.601606e+12</td>\n",
       "    </tr>\n",
       "    <tr>\n",
       "      <th>x2</th>\n",
       "      <td>6.905456e+11</td>\n",
       "      <td>6.905456e+11</td>\n",
       "    </tr>\n",
       "    <tr>\n",
       "      <th>x11</th>\n",
       "      <td>-1.035304e+01</td>\n",
       "      <td>1.035304e+01</td>\n",
       "    </tr>\n",
       "    <tr>\n",
       "      <th>x10</th>\n",
       "      <td>6.414513e+00</td>\n",
       "      <td>6.414513e+00</td>\n",
       "    </tr>\n",
       "    <tr>\n",
       "      <th>x8</th>\n",
       "      <td>5.933236e+00</td>\n",
       "      <td>5.933236e+00</td>\n",
       "    </tr>\n",
       "    <tr>\n",
       "      <th>x7</th>\n",
       "      <td>5.771393e+00</td>\n",
       "      <td>5.771393e+00</td>\n",
       "    </tr>\n",
       "  </tbody>\n",
       "</table>\n",
       "</div>"
      ],
      "text/plain": [
       "     coefficients     abs_value\n",
       "x1   5.162403e+12  5.162403e+12\n",
       "x4  -2.862000e+12  2.862000e+12\n",
       "x5  -2.033343e+12  2.033343e+12\n",
       "x0  -1.671559e+12  1.671559e+12\n",
       "x3  -1.601606e+12  1.601606e+12\n",
       "x2   6.905456e+11  6.905456e+11\n",
       "x11 -1.035304e+01  1.035304e+01\n",
       "x10  6.414513e+00  6.414513e+00\n",
       "x8   5.933236e+00  5.933236e+00\n",
       "x7   5.771393e+00  5.771393e+00"
      ]
     },
     "execution_count": 53,
     "metadata": {},
     "output_type": "execute_result"
    }
   ],
   "source": [
    "df_coef_poly1[0:10]"
   ]
  },
  {
   "cell_type": "code",
   "execution_count": 54,
   "metadata": {
    "ExecuteTime": {
     "end_time": "2020-10-01T03:03:46.760022Z",
     "start_time": "2020-10-01T03:03:46.735463Z"
    }
   },
   "outputs": [
    {
     "data": {
      "text/html": [
       "<div>\n",
       "<style scoped>\n",
       "    .dataframe tbody tr th:only-of-type {\n",
       "        vertical-align: middle;\n",
       "    }\n",
       "\n",
       "    .dataframe tbody tr th {\n",
       "        vertical-align: top;\n",
       "    }\n",
       "\n",
       "    .dataframe thead th {\n",
       "        text-align: right;\n",
       "    }\n",
       "</style>\n",
       "<table border=\"1\" class=\"dataframe\">\n",
       "  <thead>\n",
       "    <tr style=\"text-align: right;\">\n",
       "      <th></th>\n",
       "      <th>coefficients</th>\n",
       "      <th>abs_value</th>\n",
       "    </tr>\n",
       "  </thead>\n",
       "  <tbody>\n",
       "    <tr>\n",
       "      <th>x1</th>\n",
       "      <td>-5.539724e+12</td>\n",
       "      <td>5.539724e+12</td>\n",
       "    </tr>\n",
       "    <tr>\n",
       "      <th>x4</th>\n",
       "      <td>3.967866e+12</td>\n",
       "      <td>3.967866e+12</td>\n",
       "    </tr>\n",
       "    <tr>\n",
       "      <th>x4 x14</th>\n",
       "      <td>2.484397e+12</td>\n",
       "      <td>2.484397e+12</td>\n",
       "    </tr>\n",
       "    <tr>\n",
       "      <th>x2 x5</th>\n",
       "      <td>2.187260e+12</td>\n",
       "      <td>2.187260e+12</td>\n",
       "    </tr>\n",
       "    <tr>\n",
       "      <th>x1 x10</th>\n",
       "      <td>-2.176709e+12</td>\n",
       "      <td>2.176709e+12</td>\n",
       "    </tr>\n",
       "    <tr>\n",
       "      <th>x1 x9</th>\n",
       "      <td>2.078283e+12</td>\n",
       "      <td>2.078283e+12</td>\n",
       "    </tr>\n",
       "    <tr>\n",
       "      <th>x0 x4</th>\n",
       "      <td>1.918921e+12</td>\n",
       "      <td>1.918921e+12</td>\n",
       "    </tr>\n",
       "    <tr>\n",
       "      <th>x0 x2</th>\n",
       "      <td>-1.894953e+12</td>\n",
       "      <td>1.894953e+12</td>\n",
       "    </tr>\n",
       "    <tr>\n",
       "      <th>x0 x5</th>\n",
       "      <td>-1.886974e+12</td>\n",
       "      <td>1.886974e+12</td>\n",
       "    </tr>\n",
       "    <tr>\n",
       "      <th>x1 x14</th>\n",
       "      <td>-1.855827e+12</td>\n",
       "      <td>1.855827e+12</td>\n",
       "    </tr>\n",
       "  </tbody>\n",
       "</table>\n",
       "</div>"
      ],
      "text/plain": [
       "        coefficients     abs_value\n",
       "x1     -5.539724e+12  5.539724e+12\n",
       "x4      3.967866e+12  3.967866e+12\n",
       "x4 x14  2.484397e+12  2.484397e+12\n",
       "x2 x5   2.187260e+12  2.187260e+12\n",
       "x1 x10 -2.176709e+12  2.176709e+12\n",
       "x1 x9   2.078283e+12  2.078283e+12\n",
       "x0 x4   1.918921e+12  1.918921e+12\n",
       "x0 x2  -1.894953e+12  1.894953e+12\n",
       "x0 x5  -1.886974e+12  1.886974e+12\n",
       "x1 x14 -1.855827e+12  1.855827e+12"
      ]
     },
     "execution_count": 54,
     "metadata": {},
     "output_type": "execute_result"
    }
   ],
   "source": [
    "df_coef_poly2[0:10]"
   ]
  },
  {
   "cell_type": "markdown",
   "metadata": {},
   "source": [
    "## Ridge Feature Weights "
   ]
  },
  {
   "cell_type": "code",
   "execution_count": 55,
   "metadata": {
    "ExecuteTime": {
     "end_time": "2020-10-01T03:03:46.825327Z",
     "start_time": "2020-10-01T03:03:46.766146Z"
    }
   },
   "outputs": [
    {
     "data": {
      "text/html": [
       "<div>\n",
       "<style scoped>\n",
       "    .dataframe tbody tr th:only-of-type {\n",
       "        vertical-align: middle;\n",
       "    }\n",
       "\n",
       "    .dataframe tbody tr th {\n",
       "        vertical-align: top;\n",
       "    }\n",
       "\n",
       "    .dataframe thead th {\n",
       "        text-align: right;\n",
       "    }\n",
       "</style>\n",
       "<table border=\"1\" class=\"dataframe\">\n",
       "  <thead>\n",
       "    <tr style=\"text-align: right;\">\n",
       "      <th></th>\n",
       "      <th>coefficients</th>\n",
       "      <th>abs_value</th>\n",
       "    </tr>\n",
       "  </thead>\n",
       "  <tbody>\n",
       "    <tr>\n",
       "      <th>x8^2</th>\n",
       "      <td>-12.443564</td>\n",
       "      <td>12.443564</td>\n",
       "    </tr>\n",
       "    <tr>\n",
       "      <th>x2 x11</th>\n",
       "      <td>-7.886487</td>\n",
       "      <td>7.886487</td>\n",
       "    </tr>\n",
       "    <tr>\n",
       "      <th>x11 x13</th>\n",
       "      <td>6.845456</td>\n",
       "      <td>6.845456</td>\n",
       "    </tr>\n",
       "    <tr>\n",
       "      <th>x1</th>\n",
       "      <td>6.833075</td>\n",
       "      <td>6.833075</td>\n",
       "    </tr>\n",
       "    <tr>\n",
       "      <th>x5 x6</th>\n",
       "      <td>6.742540</td>\n",
       "      <td>6.742540</td>\n",
       "    </tr>\n",
       "    <tr>\n",
       "      <th>x0</th>\n",
       "      <td>6.184041</td>\n",
       "      <td>6.184041</td>\n",
       "    </tr>\n",
       "    <tr>\n",
       "      <th>x8</th>\n",
       "      <td>5.761828</td>\n",
       "      <td>5.761828</td>\n",
       "    </tr>\n",
       "    <tr>\n",
       "      <th>x6 x12</th>\n",
       "      <td>-5.321361</td>\n",
       "      <td>5.321361</td>\n",
       "    </tr>\n",
       "    <tr>\n",
       "      <th>x3 x14</th>\n",
       "      <td>5.279315</td>\n",
       "      <td>5.279315</td>\n",
       "    </tr>\n",
       "    <tr>\n",
       "      <th>x8 x11</th>\n",
       "      <td>5.272684</td>\n",
       "      <td>5.272684</td>\n",
       "    </tr>\n",
       "  </tbody>\n",
       "</table>\n",
       "</div>"
      ],
      "text/plain": [
       "         coefficients  abs_value\n",
       "x8^2       -12.443564  12.443564\n",
       "x2 x11      -7.886487   7.886487\n",
       "x11 x13      6.845456   6.845456\n",
       "x1           6.833075   6.833075\n",
       "x5 x6        6.742540   6.742540\n",
       "x0           6.184041   6.184041\n",
       "x8           5.761828   5.761828\n",
       "x6 x12      -5.321361   5.321361\n",
       "x3 x14       5.279315   5.279315\n",
       "x8 x11       5.272684   5.272684"
      ]
     },
     "execution_count": 55,
     "metadata": {},
     "output_type": "execute_result"
    }
   ],
   "source": [
    "df_coef_ridge[0:10]"
   ]
  },
  {
   "cell_type": "markdown",
   "metadata": {},
   "source": [
    "## Lasso Feature Weights "
   ]
  },
  {
   "cell_type": "code",
   "execution_count": 56,
   "metadata": {
    "ExecuteTime": {
     "end_time": "2020-10-01T03:03:46.895035Z",
     "start_time": "2020-10-01T03:03:46.847872Z"
    }
   },
   "outputs": [
    {
     "data": {
      "text/html": [
       "<div>\n",
       "<style scoped>\n",
       "    .dataframe tbody tr th:only-of-type {\n",
       "        vertical-align: middle;\n",
       "    }\n",
       "\n",
       "    .dataframe tbody tr th {\n",
       "        vertical-align: top;\n",
       "    }\n",
       "\n",
       "    .dataframe thead th {\n",
       "        text-align: right;\n",
       "    }\n",
       "</style>\n",
       "<table border=\"1\" class=\"dataframe\">\n",
       "  <thead>\n",
       "    <tr style=\"text-align: right;\">\n",
       "      <th></th>\n",
       "      <th>coefficients</th>\n",
       "      <th>abs_value</th>\n",
       "    </tr>\n",
       "  </thead>\n",
       "  <tbody>\n",
       "    <tr>\n",
       "      <th>x1</th>\n",
       "      <td>25.263196</td>\n",
       "      <td>25.263196</td>\n",
       "    </tr>\n",
       "    <tr>\n",
       "      <th>x8</th>\n",
       "      <td>12.135663</td>\n",
       "      <td>12.135663</td>\n",
       "    </tr>\n",
       "    <tr>\n",
       "      <th>x2 x11</th>\n",
       "      <td>-10.297554</td>\n",
       "      <td>10.297554</td>\n",
       "    </tr>\n",
       "    <tr>\n",
       "      <th>x8^2</th>\n",
       "      <td>-9.485920</td>\n",
       "      <td>9.485920</td>\n",
       "    </tr>\n",
       "    <tr>\n",
       "      <th>x3</th>\n",
       "      <td>7.557305</td>\n",
       "      <td>7.557305</td>\n",
       "    </tr>\n",
       "    <tr>\n",
       "      <th>x6^2</th>\n",
       "      <td>-4.677333</td>\n",
       "      <td>4.677333</td>\n",
       "    </tr>\n",
       "    <tr>\n",
       "      <th>x14^2</th>\n",
       "      <td>-4.188943</td>\n",
       "      <td>4.188943</td>\n",
       "    </tr>\n",
       "    <tr>\n",
       "      <th>x7 x10</th>\n",
       "      <td>3.220343</td>\n",
       "      <td>3.220343</td>\n",
       "    </tr>\n",
       "    <tr>\n",
       "      <th>x5 x6</th>\n",
       "      <td>3.083881</td>\n",
       "      <td>3.083881</td>\n",
       "    </tr>\n",
       "    <tr>\n",
       "      <th>x0^2</th>\n",
       "      <td>-2.948963</td>\n",
       "      <td>2.948963</td>\n",
       "    </tr>\n",
       "  </tbody>\n",
       "</table>\n",
       "</div>"
      ],
      "text/plain": [
       "        coefficients  abs_value\n",
       "x1         25.263196  25.263196\n",
       "x8         12.135663  12.135663\n",
       "x2 x11    -10.297554  10.297554\n",
       "x8^2       -9.485920   9.485920\n",
       "x3          7.557305   7.557305\n",
       "x6^2       -4.677333   4.677333\n",
       "x14^2      -4.188943   4.188943\n",
       "x7 x10      3.220343   3.220343\n",
       "x5 x6       3.083881   3.083881\n",
       "x0^2       -2.948963   2.948963"
      ]
     },
     "execution_count": 56,
     "metadata": {},
     "output_type": "execute_result"
    }
   ],
   "source": [
    "df_coef_lasso[0:10]"
   ]
  }
 ],
 "metadata": {
  "kernelspec": {
   "display_name": "Python 3",
   "language": "python",
   "name": "python3"
  },
  "language_info": {
   "codemirror_mode": {
    "name": "ipython",
    "version": 3
   },
   "file_extension": ".py",
   "mimetype": "text/x-python",
   "name": "python",
   "nbconvert_exporter": "python",
   "pygments_lexer": "ipython3",
   "version": "3.6.10"
  },
  "toc": {
   "base_numbering": 1,
   "nav_menu": {},
   "number_sections": true,
   "sideBar": true,
   "skip_h1_title": false,
   "title_cell": "Table of Contents",
   "title_sidebar": "Contents",
   "toc_cell": false,
   "toc_position": {
    "height": "calc(100% - 180px)",
    "left": "10px",
    "top": "150px",
    "width": "306px"
   },
   "toc_section_display": true,
   "toc_window_display": true
  }
 },
 "nbformat": 4,
 "nbformat_minor": 4
}
