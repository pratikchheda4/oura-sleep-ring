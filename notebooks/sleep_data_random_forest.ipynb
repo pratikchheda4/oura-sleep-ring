{
 "cells": [
  {
   "cell_type": "markdown",
   "metadata": {},
   "source": [
    "# Imports"
   ]
  },
  {
   "cell_type": "markdown",
   "metadata": {},
   "source": [
    "## Package Imports "
   ]
  },
  {
   "cell_type": "code",
   "execution_count": 1,
   "metadata": {
    "ExecuteTime": {
     "end_time": "2020-10-01T02:46:53.737090Z",
     "start_time": "2020-10-01T02:46:49.670312Z"
    }
   },
   "outputs": [],
   "source": [
    "import pandas as pd\n",
    "import numpy as np\n",
    "pd.set_option('display.max_columns', None) \n",
    "\n",
    "import matplotlib.pyplot as plt\n",
    "import seaborn as sns\n",
    "\n",
    "from sklearn.preprocessing import PolynomialFeatures\n",
    "from sklearn.pipeline import Pipeline\n",
    "from sklearn.metrics import mean_squared_error, r2_score\n",
    "from sklearn.model_selection import train_test_split, KFold, cross_val_score, \\\n",
    "                                    RandomizedSearchCV, GridSearchCV\n",
    "from sklearn.ensemble import RandomForestRegressor"
   ]
  },
  {
   "cell_type": "markdown",
   "metadata": {},
   "source": [
    "## Data Imports "
   ]
  },
  {
   "cell_type": "code",
   "execution_count": 2,
   "metadata": {
    "ExecuteTime": {
     "end_time": "2020-10-01T02:46:53.884240Z",
     "start_time": "2020-10-01T02:46:53.741412Z"
    }
   },
   "outputs": [],
   "source": [
    "df1_sleep_orig = pd.read_csv('person1_oura_2019-09-30_2020-09-30_trends.csv')"
   ]
  },
  {
   "cell_type": "code",
   "execution_count": 3,
   "metadata": {
    "ExecuteTime": {
     "end_time": "2020-10-01T02:46:53.913881Z",
     "start_time": "2020-10-01T02:46:53.890432Z"
    }
   },
   "outputs": [],
   "source": [
    "df2_sleep_orig = pd.read_csv('person2_oura_2020-07-22_2020-10-01_trends.csv')"
   ]
  },
  {
   "cell_type": "code",
   "execution_count": 4,
   "metadata": {
    "ExecuteTime": {
     "end_time": "2020-10-01T02:46:53.977267Z",
     "start_time": "2020-10-01T02:46:53.922994Z"
    }
   },
   "outputs": [],
   "source": [
    "df3_sleep_orig = pd.read_csv('person3_oura_2019-01-01_2020-09-22_trends.csv')"
   ]
  },
  {
   "cell_type": "code",
   "execution_count": 5,
   "metadata": {
    "ExecuteTime": {
     "end_time": "2020-10-01T02:46:54.034143Z",
     "start_time": "2020-10-01T02:46:53.988616Z"
    }
   },
   "outputs": [],
   "source": [
    "df_sleep = pd.concat([df1_sleep_orig, df2_sleep_orig, df3_sleep_orig])"
   ]
  },
  {
   "cell_type": "code",
   "execution_count": 6,
   "metadata": {
    "ExecuteTime": {
     "end_time": "2020-10-01T02:46:54.138337Z",
     "start_time": "2020-10-01T02:46:54.039320Z"
    }
   },
   "outputs": [
    {
     "data": {
      "text/html": [
       "<div>\n",
       "<style scoped>\n",
       "    .dataframe tbody tr th:only-of-type {\n",
       "        vertical-align: middle;\n",
       "    }\n",
       "\n",
       "    .dataframe tbody tr th {\n",
       "        vertical-align: top;\n",
       "    }\n",
       "\n",
       "    .dataframe thead th {\n",
       "        text-align: right;\n",
       "    }\n",
       "</style>\n",
       "<table border=\"1\" class=\"dataframe\">\n",
       "  <thead>\n",
       "    <tr style=\"text-align: right;\">\n",
       "      <th></th>\n",
       "      <th>date</th>\n",
       "      <th>Sleep Score</th>\n",
       "      <th>Total Sleep Score</th>\n",
       "      <th>REM Sleep Score</th>\n",
       "      <th>Deep Sleep Score</th>\n",
       "      <th>Sleep Efficiency Score</th>\n",
       "      <th>Restfulness Score</th>\n",
       "      <th>Sleep Latency Score</th>\n",
       "      <th>Sleep Timing Score</th>\n",
       "      <th>Total Bedtime</th>\n",
       "      <th>Total Sleep Time</th>\n",
       "      <th>Awake Time</th>\n",
       "      <th>REM Sleep Time</th>\n",
       "      <th>Light Sleep Time</th>\n",
       "      <th>Deep Sleep Time</th>\n",
       "      <th>Restless Sleep</th>\n",
       "      <th>Sleep Efficiency</th>\n",
       "      <th>Sleep Latency</th>\n",
       "      <th>Sleep Timing</th>\n",
       "      <th>Sleep Timing.1</th>\n",
       "      <th>Bedtime Start</th>\n",
       "      <th>Bedtime End</th>\n",
       "      <th>Average Resting Heart Rate</th>\n",
       "      <th>Lowest Resting Heart Rate</th>\n",
       "      <th>Average HRV</th>\n",
       "      <th>Temperature Deviation (°C)</th>\n",
       "      <th>Respiratory Rate</th>\n",
       "      <th>Activity Score</th>\n",
       "      <th>Stay Active Score</th>\n",
       "      <th>Move Every Hour Score</th>\n",
       "      <th>Meet Daily Targets Score</th>\n",
       "      <th>Training Frequency Score</th>\n",
       "      <th>Training Volume Score</th>\n",
       "      <th>Recovery Time Score</th>\n",
       "      <th>Activity Burn</th>\n",
       "      <th>Total Burn</th>\n",
       "      <th>Target Calories</th>\n",
       "      <th>Steps</th>\n",
       "      <th>Daily Movement</th>\n",
       "      <th>Inactive Time</th>\n",
       "      <th>Rest Time</th>\n",
       "      <th>Low Activity Time</th>\n",
       "      <th>Medium Activity Time</th>\n",
       "      <th>High Activity Time</th>\n",
       "      <th>Non-wear Time</th>\n",
       "      <th>Average MET</th>\n",
       "      <th>Long Periods of Inactivity</th>\n",
       "      <th>Readiness Score</th>\n",
       "      <th>Previous Night Score</th>\n",
       "      <th>Sleep Balance Score</th>\n",
       "      <th>Previous Day Activity Score</th>\n",
       "      <th>Activity Balance Score</th>\n",
       "      <th>Temperature Score</th>\n",
       "      <th>Resting Heart Rate Score</th>\n",
       "      <th>HRV Balance Score</th>\n",
       "      <th>Recovery Index Score</th>\n",
       "    </tr>\n",
       "  </thead>\n",
       "  <tbody>\n",
       "    <tr>\n",
       "      <th>0</th>\n",
       "      <td>2020-08-25</td>\n",
       "      <td>NaN</td>\n",
       "      <td>NaN</td>\n",
       "      <td>NaN</td>\n",
       "      <td>NaN</td>\n",
       "      <td>NaN</td>\n",
       "      <td>NaN</td>\n",
       "      <td>NaN</td>\n",
       "      <td>NaN</td>\n",
       "      <td>NaN</td>\n",
       "      <td>NaN</td>\n",
       "      <td>NaN</td>\n",
       "      <td>NaN</td>\n",
       "      <td>NaN</td>\n",
       "      <td>NaN</td>\n",
       "      <td>NaN</td>\n",
       "      <td>NaN</td>\n",
       "      <td>NaN</td>\n",
       "      <td>NaN</td>\n",
       "      <td>NaN</td>\n",
       "      <td>NaN</td>\n",
       "      <td>NaN</td>\n",
       "      <td>NaN</td>\n",
       "      <td>NaN</td>\n",
       "      <td>NaN</td>\n",
       "      <td>NaN</td>\n",
       "      <td>NaN</td>\n",
       "      <td>93.0</td>\n",
       "      <td>100.0</td>\n",
       "      <td>100.0</td>\n",
       "      <td>78.0</td>\n",
       "      <td>100.0</td>\n",
       "      <td>99.0</td>\n",
       "      <td>98.0</td>\n",
       "      <td>3.0</td>\n",
       "      <td>1996.0</td>\n",
       "      <td>500.0</td>\n",
       "      <td>84.0</td>\n",
       "      <td>41.0</td>\n",
       "      <td>36.0</td>\n",
       "      <td>178.0</td>\n",
       "      <td>4.0</td>\n",
       "      <td>0.0</td>\n",
       "      <td>0.0</td>\n",
       "      <td>1222.0</td>\n",
       "      <td>1.09375</td>\n",
       "      <td>0.0</td>\n",
       "      <td>NaN</td>\n",
       "      <td>NaN</td>\n",
       "      <td>NaN</td>\n",
       "      <td>NaN</td>\n",
       "      <td>NaN</td>\n",
       "      <td>NaN</td>\n",
       "      <td>NaN</td>\n",
       "      <td>NaN</td>\n",
       "      <td>NaN</td>\n",
       "    </tr>\n",
       "    <tr>\n",
       "      <th>1</th>\n",
       "      <td>2020-08-26</td>\n",
       "      <td>75.0</td>\n",
       "      <td>77.0</td>\n",
       "      <td>86.0</td>\n",
       "      <td>97.0</td>\n",
       "      <td>93.0</td>\n",
       "      <td>69.0</td>\n",
       "      <td>72.0</td>\n",
       "      <td>30.0</td>\n",
       "      <td>30120.0</td>\n",
       "      <td>26700.0</td>\n",
       "      <td>3420.0</td>\n",
       "      <td>6420.0</td>\n",
       "      <td>13320.0</td>\n",
       "      <td>6960.0</td>\n",
       "      <td>31.0</td>\n",
       "      <td>89.0</td>\n",
       "      <td>270.0</td>\n",
       "      <td>15060.0</td>\n",
       "      <td>NaN</td>\n",
       "      <td>2020-08-26T01:08:26-04:00</td>\n",
       "      <td>2020-08-26T09:30:26-04:00</td>\n",
       "      <td>59.52</td>\n",
       "      <td>54.0</td>\n",
       "      <td>61.0</td>\n",
       "      <td>-0.31</td>\n",
       "      <td>14.000</td>\n",
       "      <td>94.0</td>\n",
       "      <td>100.0</td>\n",
       "      <td>100.0</td>\n",
       "      <td>78.0</td>\n",
       "      <td>100.0</td>\n",
       "      <td>97.0</td>\n",
       "      <td>100.0</td>\n",
       "      <td>161.0</td>\n",
       "      <td>1907.0</td>\n",
       "      <td>450.0</td>\n",
       "      <td>4551.0</td>\n",
       "      <td>3598.0</td>\n",
       "      <td>152.0</td>\n",
       "      <td>557.0</td>\n",
       "      <td>114.0</td>\n",
       "      <td>16.0</td>\n",
       "      <td>0.0</td>\n",
       "      <td>601.0</td>\n",
       "      <td>1.21875</td>\n",
       "      <td>0.0</td>\n",
       "      <td>79.0</td>\n",
       "      <td>66.0</td>\n",
       "      <td>0.0</td>\n",
       "      <td>0.0</td>\n",
       "      <td>0.0</td>\n",
       "      <td>93.0</td>\n",
       "      <td>94.0</td>\n",
       "      <td>0.0</td>\n",
       "      <td>75.0</td>\n",
       "    </tr>\n",
       "    <tr>\n",
       "      <th>2</th>\n",
       "      <td>2020-08-27</td>\n",
       "      <td>82.0</td>\n",
       "      <td>100.0</td>\n",
       "      <td>100.0</td>\n",
       "      <td>100.0</td>\n",
       "      <td>88.0</td>\n",
       "      <td>67.0</td>\n",
       "      <td>62.0</td>\n",
       "      <td>18.0</td>\n",
       "      <td>40980.0</td>\n",
       "      <td>35670.0</td>\n",
       "      <td>5310.0</td>\n",
       "      <td>9480.0</td>\n",
       "      <td>16770.0</td>\n",
       "      <td>9420.0</td>\n",
       "      <td>27.0</td>\n",
       "      <td>87.0</td>\n",
       "      <td>30.0</td>\n",
       "      <td>19950.0</td>\n",
       "      <td>NaN</td>\n",
       "      <td>2020-08-27T00:33:26-04:00</td>\n",
       "      <td>2020-08-27T11:56:26-04:00</td>\n",
       "      <td>58.30</td>\n",
       "      <td>53.0</td>\n",
       "      <td>60.0</td>\n",
       "      <td>-0.01</td>\n",
       "      <td>14.000</td>\n",
       "      <td>89.0</td>\n",
       "      <td>100.0</td>\n",
       "      <td>100.0</td>\n",
       "      <td>60.0</td>\n",
       "      <td>96.0</td>\n",
       "      <td>95.0</td>\n",
       "      <td>100.0</td>\n",
       "      <td>2.0</td>\n",
       "      <td>1682.0</td>\n",
       "      <td>550.0</td>\n",
       "      <td>28.0</td>\n",
       "      <td>51.0</td>\n",
       "      <td>18.0</td>\n",
       "      <td>640.0</td>\n",
       "      <td>1.0</td>\n",
       "      <td>0.0</td>\n",
       "      <td>0.0</td>\n",
       "      <td>781.0</td>\n",
       "      <td>1.06250</td>\n",
       "      <td>0.0</td>\n",
       "      <td>91.0</td>\n",
       "      <td>81.0</td>\n",
       "      <td>0.0</td>\n",
       "      <td>0.0</td>\n",
       "      <td>0.0</td>\n",
       "      <td>100.0</td>\n",
       "      <td>96.0</td>\n",
       "      <td>0.0</td>\n",
       "      <td>100.0</td>\n",
       "    </tr>\n",
       "    <tr>\n",
       "      <th>3</th>\n",
       "      <td>2020-08-28</td>\n",
       "      <td>77.0</td>\n",
       "      <td>79.0</td>\n",
       "      <td>74.0</td>\n",
       "      <td>100.0</td>\n",
       "      <td>97.0</td>\n",
       "      <td>67.0</td>\n",
       "      <td>81.0</td>\n",
       "      <td>42.0</td>\n",
       "      <td>29820.0</td>\n",
       "      <td>27300.0</td>\n",
       "      <td>2520.0</td>\n",
       "      <td>5490.0</td>\n",
       "      <td>12600.0</td>\n",
       "      <td>9210.0</td>\n",
       "      <td>29.0</td>\n",
       "      <td>92.0</td>\n",
       "      <td>450.0</td>\n",
       "      <td>14820.0</td>\n",
       "      <td>NaN</td>\n",
       "      <td>2020-08-28T00:48:15-04:00</td>\n",
       "      <td>2020-08-28T09:05:15-04:00</td>\n",
       "      <td>56.65</td>\n",
       "      <td>52.0</td>\n",
       "      <td>64.0</td>\n",
       "      <td>-0.11</td>\n",
       "      <td>14.000</td>\n",
       "      <td>78.0</td>\n",
       "      <td>100.0</td>\n",
       "      <td>100.0</td>\n",
       "      <td>43.0</td>\n",
       "      <td>71.0</td>\n",
       "      <td>66.0</td>\n",
       "      <td>100.0</td>\n",
       "      <td>1.0</td>\n",
       "      <td>1714.0</td>\n",
       "      <td>450.0</td>\n",
       "      <td>21.0</td>\n",
       "      <td>4.0</td>\n",
       "      <td>28.0</td>\n",
       "      <td>391.0</td>\n",
       "      <td>2.0</td>\n",
       "      <td>0.0</td>\n",
       "      <td>0.0</td>\n",
       "      <td>1019.0</td>\n",
       "      <td>1.12500</td>\n",
       "      <td>0.0</td>\n",
       "      <td>81.0</td>\n",
       "      <td>73.0</td>\n",
       "      <td>77.0</td>\n",
       "      <td>0.0</td>\n",
       "      <td>88.0</td>\n",
       "      <td>100.0</td>\n",
       "      <td>90.0</td>\n",
       "      <td>0.0</td>\n",
       "      <td>85.0</td>\n",
       "    </tr>\n",
       "    <tr>\n",
       "      <th>4</th>\n",
       "      <td>2020-08-29</td>\n",
       "      <td>61.0</td>\n",
       "      <td>55.0</td>\n",
       "      <td>54.0</td>\n",
       "      <td>95.0</td>\n",
       "      <td>72.0</td>\n",
       "      <td>59.0</td>\n",
       "      <td>91.0</td>\n",
       "      <td>20.0</td>\n",
       "      <td>26340.0</td>\n",
       "      <td>21030.0</td>\n",
       "      <td>5310.0</td>\n",
       "      <td>4050.0</td>\n",
       "      <td>11130.0</td>\n",
       "      <td>5850.0</td>\n",
       "      <td>37.0</td>\n",
       "      <td>80.0</td>\n",
       "      <td>720.0</td>\n",
       "      <td>12090.0</td>\n",
       "      <td>NaN</td>\n",
       "      <td>2020-08-29T02:32:46-04:00</td>\n",
       "      <td>2020-08-29T09:51:46-04:00</td>\n",
       "      <td>65.18</td>\n",
       "      <td>58.0</td>\n",
       "      <td>59.0</td>\n",
       "      <td>0.07</td>\n",
       "      <td>14.875</td>\n",
       "      <td>74.0</td>\n",
       "      <td>100.0</td>\n",
       "      <td>100.0</td>\n",
       "      <td>43.0</td>\n",
       "      <td>71.0</td>\n",
       "      <td>40.0</td>\n",
       "      <td>100.0</td>\n",
       "      <td>4.0</td>\n",
       "      <td>1728.0</td>\n",
       "      <td>450.0</td>\n",
       "      <td>119.0</td>\n",
       "      <td>63.0</td>\n",
       "      <td>4.0</td>\n",
       "      <td>316.0</td>\n",
       "      <td>6.0</td>\n",
       "      <td>0.0</td>\n",
       "      <td>0.0</td>\n",
       "      <td>1114.0</td>\n",
       "      <td>1.12500</td>\n",
       "      <td>0.0</td>\n",
       "      <td>71.0</td>\n",
       "      <td>48.0</td>\n",
       "      <td>74.0</td>\n",
       "      <td>0.0</td>\n",
       "      <td>88.0</td>\n",
       "      <td>99.0</td>\n",
       "      <td>76.0</td>\n",
       "      <td>0.0</td>\n",
       "      <td>77.0</td>\n",
       "    </tr>\n",
       "  </tbody>\n",
       "</table>\n",
       "</div>"
      ],
      "text/plain": [
       "         date  Sleep Score  Total Sleep Score  REM Sleep Score  \\\n",
       "0  2020-08-25          NaN                NaN              NaN   \n",
       "1  2020-08-26         75.0               77.0             86.0   \n",
       "2  2020-08-27         82.0              100.0            100.0   \n",
       "3  2020-08-28         77.0               79.0             74.0   \n",
       "4  2020-08-29         61.0               55.0             54.0   \n",
       "\n",
       "   Deep Sleep Score  Sleep Efficiency Score  Restfulness Score  \\\n",
       "0               NaN                     NaN                NaN   \n",
       "1              97.0                    93.0               69.0   \n",
       "2             100.0                    88.0               67.0   \n",
       "3             100.0                    97.0               67.0   \n",
       "4              95.0                    72.0               59.0   \n",
       "\n",
       "   Sleep Latency Score  Sleep Timing Score  Total Bedtime  Total Sleep Time  \\\n",
       "0                  NaN                 NaN            NaN               NaN   \n",
       "1                 72.0                30.0        30120.0           26700.0   \n",
       "2                 62.0                18.0        40980.0           35670.0   \n",
       "3                 81.0                42.0        29820.0           27300.0   \n",
       "4                 91.0                20.0        26340.0           21030.0   \n",
       "\n",
       "   Awake Time  REM Sleep Time  Light Sleep Time  Deep Sleep Time  \\\n",
       "0         NaN             NaN               NaN              NaN   \n",
       "1      3420.0          6420.0           13320.0           6960.0   \n",
       "2      5310.0          9480.0           16770.0           9420.0   \n",
       "3      2520.0          5490.0           12600.0           9210.0   \n",
       "4      5310.0          4050.0           11130.0           5850.0   \n",
       "\n",
       "   Restless Sleep  Sleep Efficiency  Sleep Latency  Sleep Timing  \\\n",
       "0             NaN               NaN            NaN           NaN   \n",
       "1            31.0              89.0          270.0       15060.0   \n",
       "2            27.0              87.0           30.0       19950.0   \n",
       "3            29.0              92.0          450.0       14820.0   \n",
       "4            37.0              80.0          720.0       12090.0   \n",
       "\n",
       "   Sleep Timing.1              Bedtime Start                Bedtime End  \\\n",
       "0             NaN                        NaN                        NaN   \n",
       "1             NaN  2020-08-26T01:08:26-04:00  2020-08-26T09:30:26-04:00   \n",
       "2             NaN  2020-08-27T00:33:26-04:00  2020-08-27T11:56:26-04:00   \n",
       "3             NaN  2020-08-28T00:48:15-04:00  2020-08-28T09:05:15-04:00   \n",
       "4             NaN  2020-08-29T02:32:46-04:00  2020-08-29T09:51:46-04:00   \n",
       "\n",
       "   Average Resting Heart Rate  Lowest Resting Heart Rate  Average HRV  \\\n",
       "0                         NaN                        NaN          NaN   \n",
       "1                       59.52                       54.0         61.0   \n",
       "2                       58.30                       53.0         60.0   \n",
       "3                       56.65                       52.0         64.0   \n",
       "4                       65.18                       58.0         59.0   \n",
       "\n",
       "   Temperature Deviation (°C)  Respiratory Rate  Activity Score  \\\n",
       "0                         NaN               NaN            93.0   \n",
       "1                       -0.31            14.000            94.0   \n",
       "2                       -0.01            14.000            89.0   \n",
       "3                       -0.11            14.000            78.0   \n",
       "4                        0.07            14.875            74.0   \n",
       "\n",
       "   Stay Active Score  Move Every Hour Score  Meet Daily Targets Score  \\\n",
       "0              100.0                  100.0                      78.0   \n",
       "1              100.0                  100.0                      78.0   \n",
       "2              100.0                  100.0                      60.0   \n",
       "3              100.0                  100.0                      43.0   \n",
       "4              100.0                  100.0                      43.0   \n",
       "\n",
       "   Training Frequency Score  Training Volume Score  Recovery Time Score  \\\n",
       "0                     100.0                   99.0                 98.0   \n",
       "1                     100.0                   97.0                100.0   \n",
       "2                      96.0                   95.0                100.0   \n",
       "3                      71.0                   66.0                100.0   \n",
       "4                      71.0                   40.0                100.0   \n",
       "\n",
       "   Activity Burn  Total Burn  Target Calories   Steps  Daily Movement  \\\n",
       "0            3.0      1996.0            500.0    84.0            41.0   \n",
       "1          161.0      1907.0            450.0  4551.0          3598.0   \n",
       "2            2.0      1682.0            550.0    28.0            51.0   \n",
       "3            1.0      1714.0            450.0    21.0             4.0   \n",
       "4            4.0      1728.0            450.0   119.0            63.0   \n",
       "\n",
       "   Inactive Time  Rest Time  Low Activity Time  Medium Activity Time  \\\n",
       "0           36.0      178.0                4.0                   0.0   \n",
       "1          152.0      557.0              114.0                  16.0   \n",
       "2           18.0      640.0                1.0                   0.0   \n",
       "3           28.0      391.0                2.0                   0.0   \n",
       "4            4.0      316.0                6.0                   0.0   \n",
       "\n",
       "   High Activity Time  Non-wear Time  Average MET  Long Periods of Inactivity  \\\n",
       "0                 0.0         1222.0      1.09375                         0.0   \n",
       "1                 0.0          601.0      1.21875                         0.0   \n",
       "2                 0.0          781.0      1.06250                         0.0   \n",
       "3                 0.0         1019.0      1.12500                         0.0   \n",
       "4                 0.0         1114.0      1.12500                         0.0   \n",
       "\n",
       "   Readiness Score  Previous Night Score  Sleep Balance Score  \\\n",
       "0              NaN                   NaN                  NaN   \n",
       "1             79.0                  66.0                  0.0   \n",
       "2             91.0                  81.0                  0.0   \n",
       "3             81.0                  73.0                 77.0   \n",
       "4             71.0                  48.0                 74.0   \n",
       "\n",
       "   Previous Day Activity Score  Activity Balance Score  Temperature Score  \\\n",
       "0                          NaN                     NaN                NaN   \n",
       "1                          0.0                     0.0               93.0   \n",
       "2                          0.0                     0.0              100.0   \n",
       "3                          0.0                    88.0              100.0   \n",
       "4                          0.0                    88.0               99.0   \n",
       "\n",
       "   Resting Heart Rate Score  HRV Balance Score  Recovery Index Score  \n",
       "0                       NaN                NaN                   NaN  \n",
       "1                      94.0                0.0                  75.0  \n",
       "2                      96.0                0.0                 100.0  \n",
       "3                      90.0                0.0                  85.0  \n",
       "4                      76.0                0.0                  77.0  "
      ]
     },
     "execution_count": 6,
     "metadata": {},
     "output_type": "execute_result"
    }
   ],
   "source": [
    "df_sleep.head()"
   ]
  },
  {
   "cell_type": "code",
   "execution_count": 7,
   "metadata": {
    "ExecuteTime": {
     "end_time": "2020-10-01T02:46:54.159295Z",
     "start_time": "2020-10-01T02:46:54.142169Z"
    }
   },
   "outputs": [
    {
     "data": {
      "text/plain": [
       "(714, 56)"
      ]
     },
     "execution_count": 7,
     "metadata": {},
     "output_type": "execute_result"
    }
   ],
   "source": [
    "df_sleep.shape"
   ]
  },
  {
   "cell_type": "code",
   "execution_count": 8,
   "metadata": {
    "ExecuteTime": {
     "end_time": "2020-10-01T02:46:54.204298Z",
     "start_time": "2020-10-01T02:46:54.182101Z"
    }
   },
   "outputs": [
    {
     "data": {
      "text/plain": [
       "date                            object\n",
       "Sleep Score                    float64\n",
       "Total Sleep Score              float64\n",
       "REM Sleep Score                float64\n",
       "Deep Sleep Score               float64\n",
       "Sleep Efficiency Score         float64\n",
       "Restfulness Score              float64\n",
       "Sleep Latency Score            float64\n",
       "Sleep Timing Score             float64\n",
       "Total Bedtime                  float64\n",
       "Total Sleep Time               float64\n",
       "Awake Time                     float64\n",
       "REM Sleep Time                 float64\n",
       "Light Sleep Time               float64\n",
       "Deep Sleep Time                float64\n",
       "Restless Sleep                 float64\n",
       "Sleep Efficiency               float64\n",
       "Sleep Latency                  float64\n",
       "Sleep Timing                   float64\n",
       "Sleep Timing.1                 float64\n",
       "Bedtime Start                   object\n",
       "Bedtime End                     object\n",
       "Average Resting Heart Rate     float64\n",
       "Lowest Resting Heart Rate      float64\n",
       "Average HRV                    float64\n",
       "Temperature Deviation (°C)     float64\n",
       "Respiratory Rate               float64\n",
       "Activity Score                 float64\n",
       "Stay Active Score              float64\n",
       "Move Every Hour Score          float64\n",
       "Meet Daily Targets Score       float64\n",
       "Training Frequency Score       float64\n",
       "Training Volume Score          float64\n",
       "Recovery Time Score            float64\n",
       "Activity Burn                  float64\n",
       "Total Burn                     float64\n",
       "Target Calories                float64\n",
       "Steps                          float64\n",
       "Daily Movement                 float64\n",
       "Inactive Time                  float64\n",
       "Rest Time                      float64\n",
       "Low Activity Time              float64\n",
       "Medium Activity Time           float64\n",
       "High Activity Time             float64\n",
       "Non-wear Time                  float64\n",
       "Average MET                    float64\n",
       "Long Periods of Inactivity     float64\n",
       "Readiness Score                float64\n",
       "Previous Night Score           float64\n",
       "Sleep Balance Score            float64\n",
       "Previous Day Activity Score    float64\n",
       "Activity Balance Score         float64\n",
       "Temperature Score              float64\n",
       "Resting Heart Rate Score       float64\n",
       "HRV Balance Score              float64\n",
       "Recovery Index Score           float64\n",
       "dtype: object"
      ]
     },
     "execution_count": 8,
     "metadata": {},
     "output_type": "execute_result"
    }
   ],
   "source": [
    "df_sleep.dtypes"
   ]
  },
  {
   "cell_type": "markdown",
   "metadata": {},
   "source": [
    "# Data Transformations"
   ]
  },
  {
   "cell_type": "markdown",
   "metadata": {},
   "source": [
    "## Column renaming "
   ]
  },
  {
   "cell_type": "code",
   "execution_count": 9,
   "metadata": {
    "ExecuteTime": {
     "end_time": "2020-10-01T02:46:54.231167Z",
     "start_time": "2020-10-01T02:46:54.220030Z"
    }
   },
   "outputs": [],
   "source": [
    "df_sleep.rename(columns = lambda x: x.lower().replace(' ', '_'), inplace = True)"
   ]
  },
  {
   "cell_type": "markdown",
   "metadata": {},
   "source": [
    "## Removing columns "
   ]
  },
  {
   "cell_type": "code",
   "execution_count": 10,
   "metadata": {
    "ExecuteTime": {
     "end_time": "2020-10-01T02:46:54.251077Z",
     "start_time": "2020-10-01T02:46:54.239570Z"
    }
   },
   "outputs": [],
   "source": [
    "list_sleep_cols = ['date', 'sleep_score', 'total_bedtime', 'total_sleep_time',\n",
    "                   'awake_time', 'rem_sleep_time', 'light_sleep_time',\n",
    "                   'deep_sleep_time', 'restless_sleep', 'sleep_efficiency',\n",
    "                   'sleep_latency', 'sleep_timing', 'bedtime_start',\n",
    "                   'bedtime_end', 'average_resting_heart_rate',\n",
    "                   'lowest_resting_heart_rate', 'average_hrv',\n",
    "                   'temperature_deviation_(°c)', 'respiratory_rate']"
   ]
  },
  {
   "cell_type": "code",
   "execution_count": 11,
   "metadata": {
    "ExecuteTime": {
     "end_time": "2020-10-01T02:46:54.272627Z",
     "start_time": "2020-10-01T02:46:54.256938Z"
    }
   },
   "outputs": [],
   "source": [
    "df_sleep2 = df_sleep[list_sleep_cols].copy()"
   ]
  },
  {
   "cell_type": "code",
   "execution_count": 12,
   "metadata": {
    "ExecuteTime": {
     "end_time": "2020-10-01T02:46:54.285357Z",
     "start_time": "2020-10-01T02:46:54.279765Z"
    }
   },
   "outputs": [],
   "source": [
    "df_sleep3 = df_sleep2.copy()"
   ]
  },
  {
   "cell_type": "markdown",
   "metadata": {},
   "source": [
    "## Dropping Nans "
   ]
  },
  {
   "cell_type": "code",
   "execution_count": 13,
   "metadata": {
    "ExecuteTime": {
     "end_time": "2020-10-01T02:46:54.318833Z",
     "start_time": "2020-10-01T02:46:54.292011Z"
    }
   },
   "outputs": [
    {
     "data": {
      "text/plain": [
       "date                           0\n",
       "sleep_score                   95\n",
       "total_bedtime                 95\n",
       "total_sleep_time              95\n",
       "awake_time                    95\n",
       "rem_sleep_time                95\n",
       "light_sleep_time              95\n",
       "deep_sleep_time               95\n",
       "restless_sleep                95\n",
       "sleep_efficiency              95\n",
       "sleep_latency                 95\n",
       "sleep_timing                  95\n",
       "bedtime_start                 95\n",
       "bedtime_end                   95\n",
       "average_resting_heart_rate    95\n",
       "lowest_resting_heart_rate     96\n",
       "average_hrv                   96\n",
       "temperature_deviation_(°c)    95\n",
       "respiratory_rate              95\n",
       "dtype: int64"
      ]
     },
     "execution_count": 13,
     "metadata": {},
     "output_type": "execute_result"
    }
   ],
   "source": [
    "df_sleep3.isnull().sum()"
   ]
  },
  {
   "cell_type": "code",
   "execution_count": 14,
   "metadata": {
    "ExecuteTime": {
     "end_time": "2020-10-01T02:46:54.347806Z",
     "start_time": "2020-10-01T02:46:54.326978Z"
    }
   },
   "outputs": [],
   "source": [
    "df_sleep3.dropna(subset=['sleep_score', 'average_hrv'], inplace=True)"
   ]
  },
  {
   "cell_type": "code",
   "execution_count": 15,
   "metadata": {
    "ExecuteTime": {
     "end_time": "2020-10-01T02:46:54.382017Z",
     "start_time": "2020-10-01T02:46:54.354848Z"
    }
   },
   "outputs": [
    {
     "data": {
      "text/plain": [
       "date                          0\n",
       "sleep_score                   0\n",
       "total_bedtime                 0\n",
       "total_sleep_time              0\n",
       "awake_time                    0\n",
       "rem_sleep_time                0\n",
       "light_sleep_time              0\n",
       "deep_sleep_time               0\n",
       "restless_sleep                0\n",
       "sleep_efficiency              0\n",
       "sleep_latency                 0\n",
       "sleep_timing                  0\n",
       "bedtime_start                 0\n",
       "bedtime_end                   0\n",
       "average_resting_heart_rate    0\n",
       "lowest_resting_heart_rate     0\n",
       "average_hrv                   0\n",
       "temperature_deviation_(°c)    0\n",
       "respiratory_rate              0\n",
       "dtype: int64"
      ]
     },
     "execution_count": 15,
     "metadata": {},
     "output_type": "execute_result"
    }
   ],
   "source": [
    "df_sleep3.isnull().sum()"
   ]
  },
  {
   "cell_type": "markdown",
   "metadata": {},
   "source": [
    "## Removing Outliers "
   ]
  },
  {
   "cell_type": "code",
   "execution_count": 16,
   "metadata": {
    "ExecuteTime": {
     "end_time": "2020-10-01T02:46:54.396094Z",
     "start_time": "2020-10-01T02:46:54.388774Z"
    }
   },
   "outputs": [],
   "source": [
    "df_sleep4 = df_sleep3.copy()"
   ]
  },
  {
   "cell_type": "code",
   "execution_count": 17,
   "metadata": {
    "ExecuteTime": {
     "end_time": "2020-10-01T02:46:54.798996Z",
     "start_time": "2020-10-01T02:46:54.402537Z"
    }
   },
   "outputs": [
    {
     "data": {
      "text/plain": [
       "<matplotlib.axes._subplots.AxesSubplot at 0x7f9df8f3e898>"
      ]
     },
     "execution_count": 17,
     "metadata": {},
     "output_type": "execute_result"
    },
    {
     "data": {
      "image/png": "[encoded data removed]",
      "text/plain": [
       "<Figure size 432x288 with 1 Axes>"
      ]
     },
     "metadata": {
      "needs_background": "light"
     },
     "output_type": "display_data"
    }
   ],
   "source": [
    "df_sleep4['sleep_score'].hist()"
   ]
  },
  {
   "cell_type": "code",
   "execution_count": 18,
   "metadata": {
    "ExecuteTime": {
     "end_time": "2020-10-01T02:46:55.095864Z",
     "start_time": "2020-10-01T02:46:54.803202Z"
    }
   },
   "outputs": [
    {
     "data": {
      "text/html": [
       "<div>\n",
       "<style scoped>\n",
       "    .dataframe tbody tr th:only-of-type {\n",
       "        vertical-align: middle;\n",
       "    }\n",
       "\n",
       "    .dataframe tbody tr th {\n",
       "        vertical-align: top;\n",
       "    }\n",
       "\n",
       "    .dataframe thead th {\n",
       "        text-align: right;\n",
       "    }\n",
       "</style>\n",
       "<table border=\"1\" class=\"dataframe\">\n",
       "  <thead>\n",
       "    <tr style=\"text-align: right;\">\n",
       "      <th></th>\n",
       "      <th>sleep_score</th>\n",
       "      <th>total_bedtime</th>\n",
       "      <th>total_sleep_time</th>\n",
       "      <th>awake_time</th>\n",
       "      <th>rem_sleep_time</th>\n",
       "      <th>light_sleep_time</th>\n",
       "      <th>deep_sleep_time</th>\n",
       "      <th>restless_sleep</th>\n",
       "      <th>sleep_efficiency</th>\n",
       "      <th>sleep_latency</th>\n",
       "      <th>sleep_timing</th>\n",
       "      <th>average_resting_heart_rate</th>\n",
       "      <th>lowest_resting_heart_rate</th>\n",
       "      <th>average_hrv</th>\n",
       "      <th>temperature_deviation_(°c)</th>\n",
       "      <th>respiratory_rate</th>\n",
       "    </tr>\n",
       "  </thead>\n",
       "  <tbody>\n",
       "    <tr>\n",
       "      <th>count</th>\n",
       "      <td>618.000000</td>\n",
       "      <td>618.000000</td>\n",
       "      <td>618.000000</td>\n",
       "      <td>618.000000</td>\n",
       "      <td>618.000000</td>\n",
       "      <td>618.000000</td>\n",
       "      <td>618.000000</td>\n",
       "      <td>618.00000</td>\n",
       "      <td>618.000000</td>\n",
       "      <td>618.000000</td>\n",
       "      <td>618.000000</td>\n",
       "      <td>618.000000</td>\n",
       "      <td>618.000000</td>\n",
       "      <td>618.000000</td>\n",
       "      <td>618.000000</td>\n",
       "      <td>618.000000</td>\n",
       "    </tr>\n",
       "    <tr>\n",
       "      <th>mean</th>\n",
       "      <td>69.113269</td>\n",
       "      <td>27589.514563</td>\n",
       "      <td>22967.038835</td>\n",
       "      <td>4622.475728</td>\n",
       "      <td>3788.786408</td>\n",
       "      <td>10757.281553</td>\n",
       "      <td>8420.970874</td>\n",
       "      <td>35.23301</td>\n",
       "      <td>83.490291</td>\n",
       "      <td>673.398058</td>\n",
       "      <td>13587.038835</td>\n",
       "      <td>57.261303</td>\n",
       "      <td>49.375405</td>\n",
       "      <td>81.962783</td>\n",
       "      <td>0.014207</td>\n",
       "      <td>14.362257</td>\n",
       "    </tr>\n",
       "    <tr>\n",
       "      <th>std</th>\n",
       "      <td>8.635240</td>\n",
       "      <td>4548.416444</td>\n",
       "      <td>3707.174454</td>\n",
       "      <td>2071.116530</td>\n",
       "      <td>1620.729166</td>\n",
       "      <td>2889.395363</td>\n",
       "      <td>1858.558031</td>\n",
       "      <td>6.56404</td>\n",
       "      <td>5.981392</td>\n",
       "      <td>497.707327</td>\n",
       "      <td>2356.468349</td>\n",
       "      <td>5.989387</td>\n",
       "      <td>5.243952</td>\n",
       "      <td>24.507603</td>\n",
       "      <td>0.275098</td>\n",
       "      <td>0.721581</td>\n",
       "    </tr>\n",
       "    <tr>\n",
       "      <th>min</th>\n",
       "      <td>34.000000</td>\n",
       "      <td>13320.000000</td>\n",
       "      <td>10830.000000</td>\n",
       "      <td>750.000000</td>\n",
       "      <td>90.000000</td>\n",
       "      <td>3150.000000</td>\n",
       "      <td>1980.000000</td>\n",
       "      <td>13.00000</td>\n",
       "      <td>48.000000</td>\n",
       "      <td>30.000000</td>\n",
       "      <td>6450.000000</td>\n",
       "      <td>45.740000</td>\n",
       "      <td>40.000000</td>\n",
       "      <td>10.000000</td>\n",
       "      <td>-0.670000</td>\n",
       "      <td>11.625000</td>\n",
       "    </tr>\n",
       "    <tr>\n",
       "      <th>25%</th>\n",
       "      <td>63.000000</td>\n",
       "      <td>24780.000000</td>\n",
       "      <td>20790.000000</td>\n",
       "      <td>3247.500000</td>\n",
       "      <td>2737.500000</td>\n",
       "      <td>8850.000000</td>\n",
       "      <td>7410.000000</td>\n",
       "      <td>31.00000</td>\n",
       "      <td>80.000000</td>\n",
       "      <td>330.000000</td>\n",
       "      <td>12187.500000</td>\n",
       "      <td>53.625000</td>\n",
       "      <td>46.000000</td>\n",
       "      <td>67.000000</td>\n",
       "      <td>-0.150000</td>\n",
       "      <td>14.000000</td>\n",
       "    </tr>\n",
       "    <tr>\n",
       "      <th>50%</th>\n",
       "      <td>70.000000</td>\n",
       "      <td>27780.000000</td>\n",
       "      <td>23070.000000</td>\n",
       "      <td>4170.000000</td>\n",
       "      <td>3660.000000</td>\n",
       "      <td>10635.000000</td>\n",
       "      <td>8460.000000</td>\n",
       "      <td>35.00000</td>\n",
       "      <td>84.000000</td>\n",
       "      <td>600.000000</td>\n",
       "      <td>13560.000000</td>\n",
       "      <td>56.360000</td>\n",
       "      <td>49.000000</td>\n",
       "      <td>82.500000</td>\n",
       "      <td>0.000000</td>\n",
       "      <td>14.250000</td>\n",
       "    </tr>\n",
       "    <tr>\n",
       "      <th>75%</th>\n",
       "      <td>75.000000</td>\n",
       "      <td>30180.000000</td>\n",
       "      <td>25350.000000</td>\n",
       "      <td>5730.000000</td>\n",
       "      <td>4740.000000</td>\n",
       "      <td>12540.000000</td>\n",
       "      <td>9622.500000</td>\n",
       "      <td>39.00000</td>\n",
       "      <td>88.000000</td>\n",
       "      <td>930.000000</td>\n",
       "      <td>14902.500000</td>\n",
       "      <td>59.565000</td>\n",
       "      <td>52.000000</td>\n",
       "      <td>100.000000</td>\n",
       "      <td>0.130000</td>\n",
       "      <td>14.750000</td>\n",
       "    </tr>\n",
       "    <tr>\n",
       "      <th>max</th>\n",
       "      <td>90.000000</td>\n",
       "      <td>49740.000000</td>\n",
       "      <td>38040.000000</td>\n",
       "      <td>16710.000000</td>\n",
       "      <td>11970.000000</td>\n",
       "      <td>22200.000000</td>\n",
       "      <td>14130.000000</td>\n",
       "      <td>62.00000</td>\n",
       "      <td>96.000000</td>\n",
       "      <td>6180.000000</td>\n",
       "      <td>24960.000000</td>\n",
       "      <td>86.810000</td>\n",
       "      <td>80.000000</td>\n",
       "      <td>157.000000</td>\n",
       "      <td>3.440000</td>\n",
       "      <td>20.250000</td>\n",
       "    </tr>\n",
       "  </tbody>\n",
       "</table>\n",
       "</div>"
      ],
      "text/plain": [
       "       sleep_score  total_bedtime  total_sleep_time    awake_time  \\\n",
       "count   618.000000     618.000000        618.000000    618.000000   \n",
       "mean     69.113269   27589.514563      22967.038835   4622.475728   \n",
       "std       8.635240    4548.416444       3707.174454   2071.116530   \n",
       "min      34.000000   13320.000000      10830.000000    750.000000   \n",
       "25%      63.000000   24780.000000      20790.000000   3247.500000   \n",
       "50%      70.000000   27780.000000      23070.000000   4170.000000   \n",
       "75%      75.000000   30180.000000      25350.000000   5730.000000   \n",
       "max      90.000000   49740.000000      38040.000000  16710.000000   \n",
       "\n",
       "       rem_sleep_time  light_sleep_time  deep_sleep_time  restless_sleep  \\\n",
       "count      618.000000        618.000000       618.000000       618.00000   \n",
       "mean      3788.786408      10757.281553      8420.970874        35.23301   \n",
       "std       1620.729166       2889.395363      1858.558031         6.56404   \n",
       "min         90.000000       3150.000000      1980.000000        13.00000   \n",
       "25%       2737.500000       8850.000000      7410.000000        31.00000   \n",
       "50%       3660.000000      10635.000000      8460.000000        35.00000   \n",
       "75%       4740.000000      12540.000000      9622.500000        39.00000   \n",
       "max      11970.000000      22200.000000     14130.000000        62.00000   \n",
       "\n",
       "       sleep_efficiency  sleep_latency  sleep_timing  \\\n",
       "count        618.000000     618.000000    618.000000   \n",
       "mean          83.490291     673.398058  13587.038835   \n",
       "std            5.981392     497.707327   2356.468349   \n",
       "min           48.000000      30.000000   6450.000000   \n",
       "25%           80.000000     330.000000  12187.500000   \n",
       "50%           84.000000     600.000000  13560.000000   \n",
       "75%           88.000000     930.000000  14902.500000   \n",
       "max           96.000000    6180.000000  24960.000000   \n",
       "\n",
       "       average_resting_heart_rate  lowest_resting_heart_rate  average_hrv  \\\n",
       "count                  618.000000                 618.000000   618.000000   \n",
       "mean                    57.261303                  49.375405    81.962783   \n",
       "std                      5.989387                   5.243952    24.507603   \n",
       "min                     45.740000                  40.000000    10.000000   \n",
       "25%                     53.625000                  46.000000    67.000000   \n",
       "50%                     56.360000                  49.000000    82.500000   \n",
       "75%                     59.565000                  52.000000   100.000000   \n",
       "max                     86.810000                  80.000000   157.000000   \n",
       "\n",
       "       temperature_deviation_(°c)  respiratory_rate  \n",
       "count                  618.000000        618.000000  \n",
       "mean                     0.014207         14.362257  \n",
       "std                      0.275098          0.721581  \n",
       "min                     -0.670000         11.625000  \n",
       "25%                     -0.150000         14.000000  \n",
       "50%                      0.000000         14.250000  \n",
       "75%                      0.130000         14.750000  \n",
       "max                      3.440000         20.250000  "
      ]
     },
     "execution_count": 18,
     "metadata": {},
     "output_type": "execute_result"
    }
   ],
   "source": [
    "df_sleep4.describe()"
   ]
  },
  {
   "cell_type": "code",
   "execution_count": 19,
   "metadata": {
    "ExecuteTime": {
     "end_time": "2020-10-01T02:46:55.118129Z",
     "start_time": "2020-10-01T02:46:55.103928Z"
    }
   },
   "outputs": [
    {
     "name": "stdout",
     "output_type": "stream",
     "text": [
      "sleep_score                     12.00\n",
      "total_bedtime                 5400.00\n",
      "total_sleep_time              4560.00\n",
      "awake_time                    2482.50\n",
      "rem_sleep_time                2002.50\n",
      "light_sleep_time              3690.00\n",
      "deep_sleep_time               2212.50\n",
      "restless_sleep                   8.00\n",
      "sleep_efficiency                 8.00\n",
      "sleep_latency                  600.00\n",
      "sleep_timing                  2715.00\n",
      "average_resting_heart_rate       5.94\n",
      "lowest_resting_heart_rate        6.00\n",
      "average_hrv                     33.00\n",
      "temperature_deviation_(°c)       0.28\n",
      "respiratory_rate                 0.75\n",
      "dtype: float64\n"
     ]
    }
   ],
   "source": [
    "Q1 = df_sleep4.quantile(0.25)\n",
    "Q3 = df_sleep4.quantile(0.75)\n",
    "IQR = Q3 - Q1\n",
    "print(IQR)"
   ]
  },
  {
   "cell_type": "code",
   "execution_count": 20,
   "metadata": {
    "ExecuteTime": {
     "end_time": "2020-10-01T02:46:55.143806Z",
     "start_time": "2020-10-01T02:46:55.121782Z"
    }
   },
   "outputs": [],
   "source": [
    "df_sleep5 = df_sleep4.loc[~((df_sleep4 < (Q1 - 1.5 * IQR)) |\n",
    "                            (df_sleep4 > (Q3 + 1.5 * IQR))).any(axis=1)].copy()"
   ]
  },
  {
   "cell_type": "code",
   "execution_count": 21,
   "metadata": {
    "ExecuteTime": {
     "end_time": "2020-10-01T02:46:55.156086Z",
     "start_time": "2020-10-01T02:46:55.149951Z"
    }
   },
   "outputs": [],
   "source": [
    "df_s = df_sleep5.copy()"
   ]
  },
  {
   "cell_type": "code",
   "execution_count": 22,
   "metadata": {
    "ExecuteTime": {
     "end_time": "2020-10-01T02:46:55.170734Z",
     "start_time": "2020-10-01T02:46:55.159299Z"
    }
   },
   "outputs": [
    {
     "data": {
      "text/plain": [
       "(518, 19)"
      ]
     },
     "execution_count": 22,
     "metadata": {},
     "output_type": "execute_result"
    }
   ],
   "source": [
    "df_s.shape"
   ]
  },
  {
   "cell_type": "markdown",
   "metadata": {},
   "source": [
    "# Random Forest"
   ]
  },
  {
   "cell_type": "markdown",
   "metadata": {},
   "source": [
    "## Data Prep "
   ]
  },
  {
   "cell_type": "code",
   "execution_count": 23,
   "metadata": {
    "ExecuteTime": {
     "end_time": "2020-10-01T02:46:55.196052Z",
     "start_time": "2020-10-01T02:46:55.180968Z"
    }
   },
   "outputs": [],
   "source": [
    "list_raw_sleep_cols = ['total_bedtime', 'total_sleep_time', 'awake_time',\n",
    "                       'rem_sleep_time', 'light_sleep_time',\n",
    "                       'deep_sleep_time', 'restless_sleep', 'sleep_efficiency',\n",
    "                       'sleep_latency', 'sleep_timing',\n",
    "                       'average_resting_heart_rate', \n",
    "                       'lowest_resting_heart_rate', 'average_hrv',\n",
    "                       'temperature_deviation_(°c)', 'respiratory_rate']\n",
    "list_col_poly = [f'x{i}' for i in range(0, len(list_raw_sleep_cols))]\n",
    "df_col_names = pd.DataFrame(list_col_poly, index=list_raw_sleep_cols,\n",
    "                            columns=['Poly Name'])\n",
    "df_col_names;"
   ]
  },
  {
   "cell_type": "code",
   "execution_count": 24,
   "metadata": {
    "ExecuteTime": {
     "end_time": "2020-10-01T02:46:55.234197Z",
     "start_time": "2020-10-01T02:46:55.220672Z"
    }
   },
   "outputs": [],
   "source": [
    "X = df_s[list_raw_sleep_cols]\n",
    "y = df_s[['sleep_score']]"
   ]
  },
  {
   "cell_type": "markdown",
   "metadata": {},
   "source": [
    "## Train/ CV/ Test Split "
   ]
  },
  {
   "cell_type": "code",
   "execution_count": 25,
   "metadata": {
    "ExecuteTime": {
     "end_time": "2020-10-01T02:46:55.257190Z",
     "start_time": "2020-10-01T02:46:55.240963Z"
    }
   },
   "outputs": [],
   "source": [
    "# We have split 80/20 between train/ cv and test\n",
    "X_train_cv, X_test, y_train_cv, y_test = train_test_split(X, y, test_size=.20,\n",
    "                                                          random_state=1)\n",
    "# We will split our train/cv 60/20 into train and cv now.\n",
    "X_train, X_cv, y_train, y_cv = train_test_split(X_train_cv, y_train_cv,\n",
    "                                                test_size=.25,\n",
    "                                                random_state=1)"
   ]
  },
  {
   "cell_type": "markdown",
   "metadata": {},
   "source": [
    "## Tuning Parameters"
   ]
  },
  {
   "cell_type": "markdown",
   "metadata": {},
   "source": [
    "### Randomized CV Search "
   ]
  },
  {
   "cell_type": "code",
   "execution_count": 26,
   "metadata": {
    "ExecuteTime": {
     "end_time": "2020-10-01T02:46:55.280345Z",
     "start_time": "2020-10-01T02:46:55.263514Z"
    }
   },
   "outputs": [],
   "source": [
    "n_estimators = [int(x) for x in np.linspace(start=100, stop=800, num=8)]\n",
    "max_features = ['auto', 'sqrt']\n",
    "max_depth = [int(x) for x in np.linspace(10, 100, num=10)]\n",
    "max_depth.append(None)\n",
    "min_samples_split = [2, 5, 10, 15]\n",
    "min_samples_leaf = [1, 2, 4]\n",
    "bootstrap = [True, False]\n",
    "degree = [1, 2, 3, 4]\n",
    "\n",
    "random_grid = {'poly__degree': degree,\n",
    "               'rf__n_estimators': n_estimators,\n",
    "               'rf__max_features': max_features,\n",
    "               'rf__max_depth': max_depth,\n",
    "               'rf__min_samples_split': min_samples_split,\n",
    "               'rf__min_samples_leaf': min_samples_leaf,\n",
    "               'rf__bootstrap': bootstrap\n",
    "              }"
   ]
  },
  {
   "cell_type": "code",
   "execution_count": 27,
   "metadata": {
    "ExecuteTime": {
     "end_time": "2020-10-01T02:58:36.951727Z",
     "start_time": "2020-10-01T02:46:55.299853Z"
    }
   },
   "outputs": [
    {
     "name": "stdout",
     "output_type": "stream",
     "text": [
      "Fitting 3 folds for each of 10 candidates, totalling 30 fits\n"
     ]
    },
    {
     "name": "stderr",
     "output_type": "stream",
     "text": [
      "[Parallel(n_jobs=-1)]: Using backend LokyBackend with 4 concurrent workers.\n",
      "[Parallel(n_jobs=-1)]: Done  30 out of  30 | elapsed: 11.7min finished\n"
     ]
    },
    {
     "data": {
      "text/plain": [
       "RandomizedSearchCV(cv=3,\n",
       "                   estimator=Pipeline(steps=[('poly', PolynomialFeatures()),\n",
       "                                             ('rf', RandomForestRegressor())]),\n",
       "                   n_jobs=-1,\n",
       "                   param_distributions={'poly__degree': [1, 2, 3, 4],\n",
       "                                        'rf__bootstrap': [True, False],\n",
       "                                        'rf__max_depth': [10, 20, 30, 40, 50,\n",
       "                                                          60, 70, 80, 90, 100,\n",
       "                                                          None],\n",
       "                                        'rf__max_features': ['auto', 'sqrt'],\n",
       "                                        'rf__min_samples_leaf': [1, 2, 4],\n",
       "                                        'rf__min_samples_split': [2, 5, 10, 15],\n",
       "                                        'rf__n_estimators': [100, 200, 300, 400,\n",
       "                                                             500, 600, 700,\n",
       "                                                             800]},\n",
       "                   random_state=1, scoring='neg_mean_squared_error', verbose=2)"
      ]
     },
     "execution_count": 27,
     "metadata": {},
     "output_type": "execute_result"
    }
   ],
   "source": [
    "# Use the random grid to search for best hyperparameters\n",
    "# First create the base model to tune\n",
    "rf_pipe = Pipeline([\n",
    "    ('poly', PolynomialFeatures()),\n",
    "    ('rf', RandomForestRegressor())  \n",
    "])\n",
    "\n",
    "# Random search of parameters, using 3 fold cross validation, \n",
    "# search across 100 different combinations, and use all available cores\n",
    "rf_random = RandomizedSearchCV(estimator=rf_pipe,\n",
    "                               param_distributions=random_grid,\n",
    "                               n_iter=10, cv=3, verbose=2, random_state=1,\n",
    "                               scoring='neg_mean_squared_error', n_jobs = -1)\n",
    "# Fit the random search model\n",
    "rf_random.fit(X_train_cv, np.ravel(y_train_cv))"
   ]
  },
  {
   "cell_type": "code",
   "execution_count": 28,
   "metadata": {
    "ExecuteTime": {
     "end_time": "2020-10-01T02:58:36.979686Z",
     "start_time": "2020-10-01T02:58:36.956699Z"
    }
   },
   "outputs": [
    {
     "data": {
      "text/plain": [
       "{'rf__n_estimators': 100,\n",
       " 'rf__min_samples_split': 5,\n",
       " 'rf__min_samples_leaf': 1,\n",
       " 'rf__max_features': 'auto',\n",
       " 'rf__max_depth': 60,\n",
       " 'rf__bootstrap': True,\n",
       " 'poly__degree': 2}"
      ]
     },
     "execution_count": 28,
     "metadata": {},
     "output_type": "execute_result"
    }
   ],
   "source": [
    "rf_random.best_params_"
   ]
  },
  {
   "cell_type": "markdown",
   "metadata": {},
   "source": [
    "### Model Performance "
   ]
  },
  {
   "cell_type": "code",
   "execution_count": 29,
   "metadata": {
    "ExecuteTime": {
     "end_time": "2020-10-01T02:58:38.756574Z",
     "start_time": "2020-10-01T02:58:36.985612Z"
    }
   },
   "outputs": [
    {
     "name": "stdout",
     "output_type": "stream",
     "text": [
      "Train error: 1.7702017710381506\n",
      "CV error: 11.528311995539752\n",
      "R^2 train 0.9599817052911459\n",
      "R^2 CV 0.7019427290450868\n"
     ]
    }
   ],
   "source": [
    "rf_pipe_opt = Pipeline([\n",
    "    ('poly', PolynomialFeatures(2)),\n",
    "    ('rf', RandomForestRegressor(\n",
    "            n_estimators=rf_random.best_params_['rf__n_estimators'],\n",
    "            max_features=rf_random.best_params_['rf__max_features'],\n",
    "            min_samples_split=rf_random.best_params_['rf__min_samples_split'],\n",
    "            max_depth=rf_random.best_params_['rf__max_depth'],\n",
    "            min_samples_leaf=rf_random.best_params_['rf__min_samples_leaf'],\n",
    "            bootstrap=rf_random.best_params_['rf__bootstrap']\n",
    "    ))  \n",
    "])\n",
    "\n",
    "rf_pipe_opt.fit(X_train, np.ravel(y_train))\n",
    "y_train_pred = rf_pipe_opt.predict(X_train)\n",
    "y_cv_pred = rf_pipe_opt.predict(X_cv)\n",
    "\n",
    "print('Train error:', mean_squared_error(y_train_pred, y_train))\n",
    "print('CV error:', mean_squared_error(y_cv_pred, y_cv))\n",
    "print('R^2 train', r2_score(y_train_pred, y_train))\n",
    "print('R^2 CV', r2_score(y_cv_pred, y_cv))"
   ]
  },
  {
   "cell_type": "code",
   "execution_count": 30,
   "metadata": {
    "ExecuteTime": {
     "end_time": "2020-10-01T02:58:38.823114Z",
     "start_time": "2020-10-01T02:58:38.773693Z"
    }
   },
   "outputs": [
    {
     "name": "stdout",
     "output_type": "stream",
     "text": [
      "Test error: 9.26913200147612\n",
      "R^2 Test 0.7742081870671553\n"
     ]
    }
   ],
   "source": [
    "y_test_pred = rf_pipe_opt.predict(X_test)\n",
    "print('Test error:', mean_squared_error(y_test_pred, y_test))\n",
    "print('R^2 Test', r2_score(y_test_pred, y_test))"
   ]
  },
  {
   "cell_type": "markdown",
   "metadata": {},
   "source": [
    "### Grid Search "
   ]
  },
  {
   "cell_type": "code",
   "execution_count": 31,
   "metadata": {
    "ExecuteTime": {
     "end_time": "2020-10-01T02:58:38.873474Z",
     "start_time": "2020-10-01T02:58:38.844929Z"
    }
   },
   "outputs": [],
   "source": [
    "param_grid = {'poly__degree': [2],\n",
    "               'rf__n_estimators': [100, 200, 300, 500],\n",
    "               'rf__max_features': ['auto'],\n",
    "               'rf__max_depth': [50, 60, 70],\n",
    "               'rf__min_samples_split': [4, 5, 6],\n",
    "               'rf__min_samples_leaf': [1, 2, 3],\n",
    "               'rf__bootstrap': [True],\n",
    "              }\n",
    "# Create a based model\n",
    "rf_pipe = Pipeline([\n",
    "    ('poly', PolynomialFeatures()),\n",
    "    ('rf', RandomForestRegressor())  \n",
    "])\n",
    "# Instantiate the grid search model\n",
    "grid_search = GridSearchCV(estimator=rf_pipe, param_grid=param_grid,\n",
    "                           scoring='neg_mean_squared_error',\n",
    "                           cv=3, n_jobs=-1, verbose=2)"
   ]
  },
  {
   "cell_type": "code",
   "execution_count": 32,
   "metadata": {
    "ExecuteTime": {
     "end_time": "2020-10-01T03:08:17.932777Z",
     "start_time": "2020-10-01T02:58:38.885747Z"
    }
   },
   "outputs": [
    {
     "name": "stdout",
     "output_type": "stream",
     "text": [
      "Fitting 3 folds for each of 108 candidates, totalling 324 fits\n"
     ]
    },
    {
     "name": "stderr",
     "output_type": "stream",
     "text": [
      "[Parallel(n_jobs=-1)]: Using backend LokyBackend with 4 concurrent workers.\n",
      "[Parallel(n_jobs=-1)]: Done  33 tasks      | elapsed:  1.0min\n",
      "[Parallel(n_jobs=-1)]: Done 154 tasks      | elapsed:  4.7min\n",
      "[Parallel(n_jobs=-1)]: Done 324 out of 324 | elapsed:  9.6min finished\n"
     ]
    },
    {
     "data": {
      "text/plain": [
       "GridSearchCV(cv=3,\n",
       "             estimator=Pipeline(steps=[('poly', PolynomialFeatures()),\n",
       "                                       ('rf', RandomForestRegressor())]),\n",
       "             n_jobs=-1,\n",
       "             param_grid={'poly__degree': [2], 'rf__bootstrap': [True],\n",
       "                         'rf__max_depth': [50, 60, 70],\n",
       "                         'rf__max_features': ['auto'],\n",
       "                         'rf__min_samples_leaf': [1, 2, 3],\n",
       "                         'rf__min_samples_split': [4, 5, 6],\n",
       "                         'rf__n_estimators': [100, 200, 300, 500]},\n",
       "             scoring='neg_mean_squared_error', verbose=2)"
      ]
     },
     "execution_count": 32,
     "metadata": {},
     "output_type": "execute_result"
    }
   ],
   "source": [
    "grid_search.fit(X_train_cv, np.ravel(y_train_cv))"
   ]
  },
  {
   "cell_type": "code",
   "execution_count": 33,
   "metadata": {
    "ExecuteTime": {
     "end_time": "2020-10-01T03:08:17.955842Z",
     "start_time": "2020-10-01T03:08:17.941098Z"
    }
   },
   "outputs": [
    {
     "data": {
      "text/plain": [
       "{'poly__degree': 2,\n",
       " 'rf__bootstrap': True,\n",
       " 'rf__max_depth': 60,\n",
       " 'rf__max_features': 'auto',\n",
       " 'rf__min_samples_leaf': 1,\n",
       " 'rf__min_samples_split': 4,\n",
       " 'rf__n_estimators': 100}"
      ]
     },
     "execution_count": 33,
     "metadata": {},
     "output_type": "execute_result"
    }
   ],
   "source": [
    "grid_search.best_params_"
   ]
  },
  {
   "cell_type": "code",
   "execution_count": 34,
   "metadata": {
    "ExecuteTime": {
     "end_time": "2020-10-01T03:08:19.783876Z",
     "start_time": "2020-10-01T03:08:17.960771Z"
    }
   },
   "outputs": [
    {
     "name": "stdout",
     "output_type": "stream",
     "text": [
      "Train error: 1.5030036511513616\n",
      "CV error: 11.946939074436859\n",
      "R^2 train 0.9668511795715358\n",
      "R^2 CV 0.6912433880196038\n"
     ]
    }
   ],
   "source": [
    "rf_pipe_opt2 = Pipeline([\n",
    "    ('poly', PolynomialFeatures(\n",
    "        degree=grid_search.best_params_['poly__degree'])\n",
    "    ),\n",
    "    ('rf', RandomForestRegressor(\n",
    "            n_estimators=grid_search.best_params_['rf__n_estimators'],\n",
    "            max_features=grid_search.best_params_['rf__max_features'],\n",
    "            min_samples_split=grid_search.best_params_['rf__min_samples_split'],\n",
    "            max_depth=grid_search.best_params_['rf__max_depth'],\n",
    "            min_samples_leaf=grid_search.best_params_['rf__min_samples_leaf'],\n",
    "            bootstrap=grid_search.best_params_['rf__bootstrap']\n",
    "    ))  \n",
    "])\n",
    "\n",
    "rf_pipe_opt2.fit(X_train, np.ravel(y_train))\n",
    "y_train_pred = rf_pipe_opt2.predict(X_train)\n",
    "y_cv_pred = rf_pipe_opt2.predict(X_cv)\n",
    "\n",
    "print('Train error:', mean_squared_error(y_train_pred, y_train))\n",
    "print('CV error:', mean_squared_error(y_cv_pred, y_cv))\n",
    "print('R^2 train', r2_score(y_train_pred, y_train))\n",
    "print('R^2 CV', r2_score(y_cv_pred, y_cv))"
   ]
  },
  {
   "cell_type": "code",
   "execution_count": 35,
   "metadata": {
    "ExecuteTime": {
     "end_time": "2020-10-01T03:08:19.926180Z",
     "start_time": "2020-10-01T03:08:19.794468Z"
    }
   },
   "outputs": [
    {
     "name": "stdout",
     "output_type": "stream",
     "text": [
      "Test error: 9.693356504721997\n",
      "R^2 Test 0.7649378653515047\n"
     ]
    }
   ],
   "source": [
    "y_test_pred = rf_pipe_opt2.predict(X_test)\n",
    "print('Test error:', mean_squared_error(y_test_pred, y_test))\n",
    "print('R^2 Test', r2_score(y_test_pred, y_test))"
   ]
  },
  {
   "cell_type": "code",
   "execution_count": 36,
   "metadata": {
    "ExecuteTime": {
     "end_time": "2020-10-01T03:08:20.602730Z",
     "start_time": "2020-10-01T03:08:19.946695Z"
    }
   },
   "outputs": [
    {
     "data": {
      "image/png": "[encoded data removed]",
      "text/plain": [
       "<Figure size 432x288 with 1 Axes>"
      ]
     },
     "metadata": {
      "needs_background": "light"
     },
     "output_type": "display_data"
    }
   ],
   "source": [
    "arr_resid = np.ravel(y_test) - y_test_pred\n",
    "plt.scatter(y_test, arr_resid)\n",
    "plt.title('Residual Error Plot for Random Forest')\n",
    "plt.xlabel('Sleep Score')\n",
    "plt.ylabel('Residual Error');"
   ]
  },
  {
   "cell_type": "markdown",
   "metadata": {},
   "source": [
    "# Results "
   ]
  },
  {
   "cell_type": "markdown",
   "metadata": {},
   "source": [
    "In terms of performance, here is how of our model did:\n",
    "\n",
    "| Name                         | Test Error (MSE) | R^2  |\n",
    "|------------------------------|------------|------|\n",
    "| Random Forest                | 9.22       | .777 |"
   ]
  },
  {
   "cell_type": "code",
   "execution_count": 37,
   "metadata": {
    "ExecuteTime": {
     "end_time": "2020-10-01T03:08:21.407125Z",
     "start_time": "2020-10-01T03:08:20.604888Z"
    }
   },
   "outputs": [
    {
     "data": {
      "image/png": "[encoded data removed]",
      "text/plain": [
       "<Figure size 1080x720 with 1 Axes>"
      ]
     },
     "metadata": {
      "needs_background": "light"
     },
     "output_type": "display_data"
    }
   ],
   "source": [
    "fi = rf_pipe_opt2['rf'].feature_importances_\n",
    "df_fi = pd.DataFrame(zip(X.columns, fi),\n",
    "                     columns=['Features', 'Importance'])\n",
    "\n",
    "df_fi = df_fi.sort_values(by='Importance')\n",
    "\n",
    "#plot\n",
    "plt.subplots(figsize=(15, 10))\n",
    "plt.barh(df_fi['Features'], df_fi['Importance'])\n",
    "plt.xlabel('Normalized Cumulative Gini Index Drop')\n",
    "plt.ylabel('Features')\n",
    "plt.title('Feature Importances');"
   ]
  }
 ],
 "metadata": {
  "kernelspec": {
   "display_name": "Python 3",
   "language": "python",
   "name": "python3"
  },
  "language_info": {
   "codemirror_mode": {
    "name": "ipython",
    "version": 3
   },
   "file_extension": ".py",
   "mimetype": "text/x-python",
   "name": "python",
   "nbconvert_exporter": "python",
   "pygments_lexer": "ipython3",
   "version": "3.6.10"
  },
  "toc": {
   "base_numbering": 1,
   "nav_menu": {},
   "number_sections": true,
   "sideBar": true,
   "skip_h1_title": false,
   "title_cell": "Table of Contents",
   "title_sidebar": "Contents",
   "toc_cell": false,
   "toc_position": {
    "height": "calc(100% - 180px)",
    "left": "10px",
    "top": "150px",
    "width": "270px"
   },
   "toc_section_display": true,
   "toc_window_display": true
  }
 },
 "nbformat": 4,
 "nbformat_minor": 4
}
